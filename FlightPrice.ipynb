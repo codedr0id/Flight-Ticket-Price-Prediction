{
  "nbformat": 4,
  "nbformat_minor": 0,
  "metadata": {
    "colab": {
      "name": "FlightPrice.ipynb",
      "provenance": [],
      "collapsed_sections": []
    },
    "kernelspec": {
      "name": "python3",
      "display_name": "Python 3"
    }
  },
  "cells": [
    {
      "cell_type": "code",
      "metadata": {
        "id": "Htjgc5xisAL_"
      },
      "source": [
        "import pandas as pd\r\n",
        "import numpy as np\r\n",
        "import seaborn as sns\r\n",
        "import matplotlib.pyplot as plt\r\n",
        "import warnings\r\n",
        "%matplotlib inline\r\n",
        "warnings.filterwarnings('ignore')"
      ],
      "execution_count": 4,
      "outputs": []
    },
    {
      "cell_type": "markdown",
      "metadata": {
        "id": "-HZfy-aAvTyA"
      },
      "source": [
        "### **Load Dataset**"
      ]
    },
    {
      "cell_type": "code",
      "metadata": {
        "colab": {
          "base_uri": "https://localhost:8080/",
          "height": 206
        },
        "id": "i2kEFHTTu7pC",
        "outputId": "32c004e6-5e20-4a86-cf26-7d3e7fff631f"
      },
      "source": [
        "df = pd.read_excel(\"Data_Train.xlsx\")\r\n",
        "df.head() "
      ],
      "execution_count": 5,
      "outputs": [
        {
          "output_type": "execute_result",
          "data": {
            "text/html": [
              "<div>\n",
              "<style scoped>\n",
              "    .dataframe tbody tr th:only-of-type {\n",
              "        vertical-align: middle;\n",
              "    }\n",
              "\n",
              "    .dataframe tbody tr th {\n",
              "        vertical-align: top;\n",
              "    }\n",
              "\n",
              "    .dataframe thead th {\n",
              "        text-align: right;\n",
              "    }\n",
              "</style>\n",
              "<table border=\"1\" class=\"dataframe\">\n",
              "  <thead>\n",
              "    <tr style=\"text-align: right;\">\n",
              "      <th></th>\n",
              "      <th>Airline</th>\n",
              "      <th>Date_of_Journey</th>\n",
              "      <th>Source</th>\n",
              "      <th>Destination</th>\n",
              "      <th>Route</th>\n",
              "      <th>Dep_Time</th>\n",
              "      <th>Arrival_Time</th>\n",
              "      <th>Duration</th>\n",
              "      <th>Total_Stops</th>\n",
              "      <th>Additional_Info</th>\n",
              "      <th>Price</th>\n",
              "    </tr>\n",
              "  </thead>\n",
              "  <tbody>\n",
              "    <tr>\n",
              "      <th>0</th>\n",
              "      <td>IndiGo</td>\n",
              "      <td>24/03/2019</td>\n",
              "      <td>Banglore</td>\n",
              "      <td>New Delhi</td>\n",
              "      <td>BLR → DEL</td>\n",
              "      <td>22:20</td>\n",
              "      <td>01:10 22 Mar</td>\n",
              "      <td>2h 50m</td>\n",
              "      <td>non-stop</td>\n",
              "      <td>No info</td>\n",
              "      <td>3897</td>\n",
              "    </tr>\n",
              "    <tr>\n",
              "      <th>1</th>\n",
              "      <td>Air India</td>\n",
              "      <td>1/05/2019</td>\n",
              "      <td>Kolkata</td>\n",
              "      <td>Banglore</td>\n",
              "      <td>CCU → IXR → BBI → BLR</td>\n",
              "      <td>05:50</td>\n",
              "      <td>13:15</td>\n",
              "      <td>7h 25m</td>\n",
              "      <td>2 stops</td>\n",
              "      <td>No info</td>\n",
              "      <td>7662</td>\n",
              "    </tr>\n",
              "    <tr>\n",
              "      <th>2</th>\n",
              "      <td>Jet Airways</td>\n",
              "      <td>9/06/2019</td>\n",
              "      <td>Delhi</td>\n",
              "      <td>Cochin</td>\n",
              "      <td>DEL → LKO → BOM → COK</td>\n",
              "      <td>09:25</td>\n",
              "      <td>04:25 10 Jun</td>\n",
              "      <td>19h</td>\n",
              "      <td>2 stops</td>\n",
              "      <td>No info</td>\n",
              "      <td>13882</td>\n",
              "    </tr>\n",
              "    <tr>\n",
              "      <th>3</th>\n",
              "      <td>IndiGo</td>\n",
              "      <td>12/05/2019</td>\n",
              "      <td>Kolkata</td>\n",
              "      <td>Banglore</td>\n",
              "      <td>CCU → NAG → BLR</td>\n",
              "      <td>18:05</td>\n",
              "      <td>23:30</td>\n",
              "      <td>5h 25m</td>\n",
              "      <td>1 stop</td>\n",
              "      <td>No info</td>\n",
              "      <td>6218</td>\n",
              "    </tr>\n",
              "    <tr>\n",
              "      <th>4</th>\n",
              "      <td>IndiGo</td>\n",
              "      <td>01/03/2019</td>\n",
              "      <td>Banglore</td>\n",
              "      <td>New Delhi</td>\n",
              "      <td>BLR → NAG → DEL</td>\n",
              "      <td>16:50</td>\n",
              "      <td>21:35</td>\n",
              "      <td>4h 45m</td>\n",
              "      <td>1 stop</td>\n",
              "      <td>No info</td>\n",
              "      <td>13302</td>\n",
              "    </tr>\n",
              "  </tbody>\n",
              "</table>\n",
              "</div>"
            ],
            "text/plain": [
              "       Airline Date_of_Journey    Source  ... Total_Stops Additional_Info  Price\n",
              "0       IndiGo      24/03/2019  Banglore  ...    non-stop         No info   3897\n",
              "1    Air India       1/05/2019   Kolkata  ...     2 stops         No info   7662\n",
              "2  Jet Airways       9/06/2019     Delhi  ...     2 stops         No info  13882\n",
              "3       IndiGo      12/05/2019   Kolkata  ...      1 stop         No info   6218\n",
              "4       IndiGo      01/03/2019  Banglore  ...      1 stop         No info  13302\n",
              "\n",
              "[5 rows x 11 columns]"
            ]
          },
          "metadata": {
            "tags": []
          },
          "execution_count": 5
        }
      ]
    },
    {
      "cell_type": "code",
      "metadata": {
        "colab": {
          "base_uri": "https://localhost:8080/"
        },
        "id": "eT6cyiQJwuuM",
        "outputId": "aea90518-d602-42e0-992d-2b7f8b9898f7"
      },
      "source": [
        "\r\n",
        "df.shape"
      ],
      "execution_count": 6,
      "outputs": [
        {
          "output_type": "execute_result",
          "data": {
            "text/plain": [
              "(10683, 11)"
            ]
          },
          "metadata": {
            "tags": []
          },
          "execution_count": 6
        }
      ]
    },
    {
      "cell_type": "code",
      "metadata": {
        "colab": {
          "base_uri": "https://localhost:8080/",
          "height": 300
        },
        "id": "S6a--p6pvhqq",
        "outputId": "9c36ec7d-896a-4559-91f1-ee4987ee0b67"
      },
      "source": [
        "df.describe()"
      ],
      "execution_count": 7,
      "outputs": [
        {
          "output_type": "execute_result",
          "data": {
            "text/html": [
              "<div>\n",
              "<style scoped>\n",
              "    .dataframe tbody tr th:only-of-type {\n",
              "        vertical-align: middle;\n",
              "    }\n",
              "\n",
              "    .dataframe tbody tr th {\n",
              "        vertical-align: top;\n",
              "    }\n",
              "\n",
              "    .dataframe thead th {\n",
              "        text-align: right;\n",
              "    }\n",
              "</style>\n",
              "<table border=\"1\" class=\"dataframe\">\n",
              "  <thead>\n",
              "    <tr style=\"text-align: right;\">\n",
              "      <th></th>\n",
              "      <th>Price</th>\n",
              "    </tr>\n",
              "  </thead>\n",
              "  <tbody>\n",
              "    <tr>\n",
              "      <th>count</th>\n",
              "      <td>10683.000000</td>\n",
              "    </tr>\n",
              "    <tr>\n",
              "      <th>mean</th>\n",
              "      <td>9087.064121</td>\n",
              "    </tr>\n",
              "    <tr>\n",
              "      <th>std</th>\n",
              "      <td>4611.359167</td>\n",
              "    </tr>\n",
              "    <tr>\n",
              "      <th>min</th>\n",
              "      <td>1759.000000</td>\n",
              "    </tr>\n",
              "    <tr>\n",
              "      <th>25%</th>\n",
              "      <td>5277.000000</td>\n",
              "    </tr>\n",
              "    <tr>\n",
              "      <th>50%</th>\n",
              "      <td>8372.000000</td>\n",
              "    </tr>\n",
              "    <tr>\n",
              "      <th>75%</th>\n",
              "      <td>12373.000000</td>\n",
              "    </tr>\n",
              "    <tr>\n",
              "      <th>max</th>\n",
              "      <td>79512.000000</td>\n",
              "    </tr>\n",
              "  </tbody>\n",
              "</table>\n",
              "</div>"
            ],
            "text/plain": [
              "              Price\n",
              "count  10683.000000\n",
              "mean    9087.064121\n",
              "std     4611.359167\n",
              "min     1759.000000\n",
              "25%     5277.000000\n",
              "50%     8372.000000\n",
              "75%    12373.000000\n",
              "max    79512.000000"
            ]
          },
          "metadata": {
            "tags": []
          },
          "execution_count": 7
        }
      ]
    },
    {
      "cell_type": "code",
      "metadata": {
        "colab": {
          "base_uri": "https://localhost:8080/"
        },
        "id": "CtfUoAl9vzPV",
        "outputId": "4dbd2271-9777-4b72-c939-6d9ecd7b4ed3"
      },
      "source": [
        "df.info()"
      ],
      "execution_count": 8,
      "outputs": [
        {
          "output_type": "stream",
          "text": [
            "<class 'pandas.core.frame.DataFrame'>\n",
            "RangeIndex: 10683 entries, 0 to 10682\n",
            "Data columns (total 11 columns):\n",
            " #   Column           Non-Null Count  Dtype \n",
            "---  ------           --------------  ----- \n",
            " 0   Airline          10683 non-null  object\n",
            " 1   Date_of_Journey  10683 non-null  object\n",
            " 2   Source           10683 non-null  object\n",
            " 3   Destination      10683 non-null  object\n",
            " 4   Route            10682 non-null  object\n",
            " 5   Dep_Time         10683 non-null  object\n",
            " 6   Arrival_Time     10683 non-null  object\n",
            " 7   Duration         10683 non-null  object\n",
            " 8   Total_Stops      10682 non-null  object\n",
            " 9   Additional_Info  10683 non-null  object\n",
            " 10  Price            10683 non-null  int64 \n",
            "dtypes: int64(1), object(10)\n",
            "memory usage: 918.2+ KB\n"
          ],
          "name": "stdout"
        }
      ]
    },
    {
      "cell_type": "code",
      "metadata": {
        "colab": {
          "base_uri": "https://localhost:8080/",
          "height": 394
        },
        "id": "4fbgct-w4U2a",
        "outputId": "84c7156c-fccd-4b38-b5dc-4fe0bbcb571b"
      },
      "source": [
        "df.describe(include=['object','int'])"
      ],
      "execution_count": 9,
      "outputs": [
        {
          "output_type": "execute_result",
          "data": {
            "text/html": [
              "<div>\n",
              "<style scoped>\n",
              "    .dataframe tbody tr th:only-of-type {\n",
              "        vertical-align: middle;\n",
              "    }\n",
              "\n",
              "    .dataframe tbody tr th {\n",
              "        vertical-align: top;\n",
              "    }\n",
              "\n",
              "    .dataframe thead th {\n",
              "        text-align: right;\n",
              "    }\n",
              "</style>\n",
              "<table border=\"1\" class=\"dataframe\">\n",
              "  <thead>\n",
              "    <tr style=\"text-align: right;\">\n",
              "      <th></th>\n",
              "      <th>Airline</th>\n",
              "      <th>Date_of_Journey</th>\n",
              "      <th>Source</th>\n",
              "      <th>Destination</th>\n",
              "      <th>Route</th>\n",
              "      <th>Dep_Time</th>\n",
              "      <th>Arrival_Time</th>\n",
              "      <th>Duration</th>\n",
              "      <th>Total_Stops</th>\n",
              "      <th>Additional_Info</th>\n",
              "      <th>Price</th>\n",
              "    </tr>\n",
              "  </thead>\n",
              "  <tbody>\n",
              "    <tr>\n",
              "      <th>count</th>\n",
              "      <td>10683</td>\n",
              "      <td>10683</td>\n",
              "      <td>10683</td>\n",
              "      <td>10683</td>\n",
              "      <td>10682</td>\n",
              "      <td>10683</td>\n",
              "      <td>10683</td>\n",
              "      <td>10683</td>\n",
              "      <td>10682</td>\n",
              "      <td>10683</td>\n",
              "      <td>10683.000000</td>\n",
              "    </tr>\n",
              "    <tr>\n",
              "      <th>unique</th>\n",
              "      <td>12</td>\n",
              "      <td>44</td>\n",
              "      <td>5</td>\n",
              "      <td>6</td>\n",
              "      <td>128</td>\n",
              "      <td>222</td>\n",
              "      <td>1343</td>\n",
              "      <td>368</td>\n",
              "      <td>5</td>\n",
              "      <td>10</td>\n",
              "      <td>NaN</td>\n",
              "    </tr>\n",
              "    <tr>\n",
              "      <th>top</th>\n",
              "      <td>Jet Airways</td>\n",
              "      <td>18/05/2019</td>\n",
              "      <td>Delhi</td>\n",
              "      <td>Cochin</td>\n",
              "      <td>DEL → BOM → COK</td>\n",
              "      <td>18:55</td>\n",
              "      <td>19:00</td>\n",
              "      <td>2h 50m</td>\n",
              "      <td>1 stop</td>\n",
              "      <td>No info</td>\n",
              "      <td>NaN</td>\n",
              "    </tr>\n",
              "    <tr>\n",
              "      <th>freq</th>\n",
              "      <td>3849</td>\n",
              "      <td>504</td>\n",
              "      <td>4537</td>\n",
              "      <td>4537</td>\n",
              "      <td>2376</td>\n",
              "      <td>233</td>\n",
              "      <td>423</td>\n",
              "      <td>550</td>\n",
              "      <td>5625</td>\n",
              "      <td>8345</td>\n",
              "      <td>NaN</td>\n",
              "    </tr>\n",
              "    <tr>\n",
              "      <th>mean</th>\n",
              "      <td>NaN</td>\n",
              "      <td>NaN</td>\n",
              "      <td>NaN</td>\n",
              "      <td>NaN</td>\n",
              "      <td>NaN</td>\n",
              "      <td>NaN</td>\n",
              "      <td>NaN</td>\n",
              "      <td>NaN</td>\n",
              "      <td>NaN</td>\n",
              "      <td>NaN</td>\n",
              "      <td>9087.064121</td>\n",
              "    </tr>\n",
              "    <tr>\n",
              "      <th>std</th>\n",
              "      <td>NaN</td>\n",
              "      <td>NaN</td>\n",
              "      <td>NaN</td>\n",
              "      <td>NaN</td>\n",
              "      <td>NaN</td>\n",
              "      <td>NaN</td>\n",
              "      <td>NaN</td>\n",
              "      <td>NaN</td>\n",
              "      <td>NaN</td>\n",
              "      <td>NaN</td>\n",
              "      <td>4611.359167</td>\n",
              "    </tr>\n",
              "    <tr>\n",
              "      <th>min</th>\n",
              "      <td>NaN</td>\n",
              "      <td>NaN</td>\n",
              "      <td>NaN</td>\n",
              "      <td>NaN</td>\n",
              "      <td>NaN</td>\n",
              "      <td>NaN</td>\n",
              "      <td>NaN</td>\n",
              "      <td>NaN</td>\n",
              "      <td>NaN</td>\n",
              "      <td>NaN</td>\n",
              "      <td>1759.000000</td>\n",
              "    </tr>\n",
              "    <tr>\n",
              "      <th>25%</th>\n",
              "      <td>NaN</td>\n",
              "      <td>NaN</td>\n",
              "      <td>NaN</td>\n",
              "      <td>NaN</td>\n",
              "      <td>NaN</td>\n",
              "      <td>NaN</td>\n",
              "      <td>NaN</td>\n",
              "      <td>NaN</td>\n",
              "      <td>NaN</td>\n",
              "      <td>NaN</td>\n",
              "      <td>5277.000000</td>\n",
              "    </tr>\n",
              "    <tr>\n",
              "      <th>50%</th>\n",
              "      <td>NaN</td>\n",
              "      <td>NaN</td>\n",
              "      <td>NaN</td>\n",
              "      <td>NaN</td>\n",
              "      <td>NaN</td>\n",
              "      <td>NaN</td>\n",
              "      <td>NaN</td>\n",
              "      <td>NaN</td>\n",
              "      <td>NaN</td>\n",
              "      <td>NaN</td>\n",
              "      <td>8372.000000</td>\n",
              "    </tr>\n",
              "    <tr>\n",
              "      <th>75%</th>\n",
              "      <td>NaN</td>\n",
              "      <td>NaN</td>\n",
              "      <td>NaN</td>\n",
              "      <td>NaN</td>\n",
              "      <td>NaN</td>\n",
              "      <td>NaN</td>\n",
              "      <td>NaN</td>\n",
              "      <td>NaN</td>\n",
              "      <td>NaN</td>\n",
              "      <td>NaN</td>\n",
              "      <td>12373.000000</td>\n",
              "    </tr>\n",
              "    <tr>\n",
              "      <th>max</th>\n",
              "      <td>NaN</td>\n",
              "      <td>NaN</td>\n",
              "      <td>NaN</td>\n",
              "      <td>NaN</td>\n",
              "      <td>NaN</td>\n",
              "      <td>NaN</td>\n",
              "      <td>NaN</td>\n",
              "      <td>NaN</td>\n",
              "      <td>NaN</td>\n",
              "      <td>NaN</td>\n",
              "      <td>79512.000000</td>\n",
              "    </tr>\n",
              "  </tbody>\n",
              "</table>\n",
              "</div>"
            ],
            "text/plain": [
              "            Airline Date_of_Journey  ... Additional_Info         Price\n",
              "count         10683           10683  ...           10683  10683.000000\n",
              "unique           12              44  ...              10           NaN\n",
              "top     Jet Airways      18/05/2019  ...         No info           NaN\n",
              "freq           3849             504  ...            8345           NaN\n",
              "mean            NaN             NaN  ...             NaN   9087.064121\n",
              "std             NaN             NaN  ...             NaN   4611.359167\n",
              "min             NaN             NaN  ...             NaN   1759.000000\n",
              "25%             NaN             NaN  ...             NaN   5277.000000\n",
              "50%             NaN             NaN  ...             NaN   8372.000000\n",
              "75%             NaN             NaN  ...             NaN  12373.000000\n",
              "max             NaN             NaN  ...             NaN  79512.000000\n",
              "\n",
              "[11 rows x 11 columns]"
            ]
          },
          "metadata": {
            "tags": []
          },
          "execution_count": 9
        }
      ]
    },
    {
      "cell_type": "code",
      "metadata": {
        "colab": {
          "base_uri": "https://localhost:8080/"
        },
        "id": "sJoAqGU34b3n",
        "outputId": "76893a7a-f3ed-48b8-847a-8b4ea028f0db"
      },
      "source": [
        "\r\n",
        "df.isnull().sum()"
      ],
      "execution_count": 10,
      "outputs": [
        {
          "output_type": "execute_result",
          "data": {
            "text/plain": [
              "Airline            0\n",
              "Date_of_Journey    0\n",
              "Source             0\n",
              "Destination        0\n",
              "Route              1\n",
              "Dep_Time           0\n",
              "Arrival_Time       0\n",
              "Duration           0\n",
              "Total_Stops        1\n",
              "Additional_Info    0\n",
              "Price              0\n",
              "dtype: int64"
            ]
          },
          "metadata": {
            "tags": []
          },
          "execution_count": 10
        }
      ]
    },
    {
      "cell_type": "code",
      "metadata": {
        "colab": {
          "base_uri": "https://localhost:8080/"
        },
        "id": "fXcSXuVT6QkE",
        "outputId": "c1c8ebaf-7cef-4afa-f63d-5b25133261f5"
      },
      "source": [
        "df.apply(lambda x: len(x.unique()))"
      ],
      "execution_count": 11,
      "outputs": [
        {
          "output_type": "execute_result",
          "data": {
            "text/plain": [
              "Airline              12\n",
              "Date_of_Journey      44\n",
              "Source                5\n",
              "Destination           6\n",
              "Route               129\n",
              "Dep_Time            222\n",
              "Arrival_Time       1343\n",
              "Duration            368\n",
              "Total_Stops           6\n",
              "Additional_Info      10\n",
              "Price              1870\n",
              "dtype: int64"
            ]
          },
          "metadata": {
            "tags": []
          },
          "execution_count": 11
        }
      ]
    },
    {
      "cell_type": "code",
      "metadata": {
        "colab": {
          "base_uri": "https://localhost:8080/",
          "height": 879
        },
        "id": "STIdiL_c6r4n",
        "outputId": "0a608577-b6b3-4dcf-aada-46054cdf4669"
      },
      "source": [
        "import matplotlib.pyplot as plt\r\n",
        "%matplotlib inline\r\n",
        "df.hist(bins=50, figsize=(20,15))\r\n",
        "plt.show()"
      ],
      "execution_count": 12,
      "outputs": [
        {
          "output_type": "display_data",
          "data": {
            "image/png": "[encoded data removed]",
            "text/plain": [
              "<Figure size 1440x1080 with 1 Axes>"
            ]
          },
          "metadata": {
            "tags": [],
            "needs_background": "light"
          }
        }
      ]
    },
    {
      "cell_type": "code",
      "metadata": {
        "colab": {
          "base_uri": "https://localhost:8080/"
        },
        "id": "eW_-uxT462FY",
        "outputId": "de53793f-c781-400f-b2fa-9f34b913931d"
      },
      "source": [
        "# Checking for categorical datatypes\r\n",
        "cat_col=[]\r\n",
        "for i in df.dtypes.index:\r\n",
        "  if df.dtypes[i]=='object':\r\n",
        "    cat_col.append(i)\r\n",
        "cat_col"
      ],
      "execution_count": 13,
      "outputs": [
        {
          "output_type": "execute_result",
          "data": {
            "text/plain": [
              "['Airline',\n",
              " 'Date_of_Journey',\n",
              " 'Source',\n",
              " 'Destination',\n",
              " 'Route',\n",
              " 'Dep_Time',\n",
              " 'Arrival_Time',\n",
              " 'Duration',\n",
              " 'Total_Stops',\n",
              " 'Additional_Info']"
            ]
          },
          "metadata": {
            "tags": []
          },
          "execution_count": 13
        }
      ]
    },
    {
      "cell_type": "code",
      "metadata": {
        "id": "lcSSxs5D7A2P"
      },
      "source": [
        "# Sorting according to date of journey\r\n",
        "df.sort_values('Date_of_Journey', inplace = True)"
      ],
      "execution_count": 14,
      "outputs": []
    },
    {
      "cell_type": "code",
      "metadata": {
        "colab": {
          "base_uri": "https://localhost:8080/",
          "height": 206
        },
        "id": "ad559ka77MlP",
        "outputId": "8d624df8-9094-45d4-b0ee-1f8103c56794"
      },
      "source": [
        "df.head()"
      ],
      "execution_count": 15,
      "outputs": [
        {
          "output_type": "execute_result",
          "data": {
            "text/html": [
              "<div>\n",
              "<style scoped>\n",
              "    .dataframe tbody tr th:only-of-type {\n",
              "        vertical-align: middle;\n",
              "    }\n",
              "\n",
              "    .dataframe tbody tr th {\n",
              "        vertical-align: top;\n",
              "    }\n",
              "\n",
              "    .dataframe thead th {\n",
              "        text-align: right;\n",
              "    }\n",
              "</style>\n",
              "<table border=\"1\" class=\"dataframe\">\n",
              "  <thead>\n",
              "    <tr style=\"text-align: right;\">\n",
              "      <th></th>\n",
              "      <th>Airline</th>\n",
              "      <th>Date_of_Journey</th>\n",
              "      <th>Source</th>\n",
              "      <th>Destination</th>\n",
              "      <th>Route</th>\n",
              "      <th>Dep_Time</th>\n",
              "      <th>Arrival_Time</th>\n",
              "      <th>Duration</th>\n",
              "      <th>Total_Stops</th>\n",
              "      <th>Additional_Info</th>\n",
              "      <th>Price</th>\n",
              "    </tr>\n",
              "  </thead>\n",
              "  <tbody>\n",
              "    <tr>\n",
              "      <th>9848</th>\n",
              "      <td>Air India</td>\n",
              "      <td>01/03/2019</td>\n",
              "      <td>Banglore</td>\n",
              "      <td>New Delhi</td>\n",
              "      <td>BLR → BOM → AMD → DEL</td>\n",
              "      <td>08:50</td>\n",
              "      <td>23:55 02 Mar</td>\n",
              "      <td>39h 5m</td>\n",
              "      <td>2 stops</td>\n",
              "      <td>No info</td>\n",
              "      <td>17135</td>\n",
              "    </tr>\n",
              "    <tr>\n",
              "      <th>6024</th>\n",
              "      <td>Air India</td>\n",
              "      <td>01/03/2019</td>\n",
              "      <td>Banglore</td>\n",
              "      <td>New Delhi</td>\n",
              "      <td>BLR → MAA → DEL</td>\n",
              "      <td>11:50</td>\n",
              "      <td>08:55 02 Mar</td>\n",
              "      <td>21h 5m</td>\n",
              "      <td>1 stop</td>\n",
              "      <td>1 Long layover</td>\n",
              "      <td>14594</td>\n",
              "    </tr>\n",
              "    <tr>\n",
              "      <th>2405</th>\n",
              "      <td>Jet Airways</td>\n",
              "      <td>01/03/2019</td>\n",
              "      <td>Banglore</td>\n",
              "      <td>New Delhi</td>\n",
              "      <td>BLR → BOM → DEL</td>\n",
              "      <td>14:05</td>\n",
              "      <td>07:40 02 Mar</td>\n",
              "      <td>17h 35m</td>\n",
              "      <td>1 stop</td>\n",
              "      <td>1 Long layover</td>\n",
              "      <td>22270</td>\n",
              "    </tr>\n",
              "    <tr>\n",
              "      <th>10383</th>\n",
              "      <td>Jet Airways</td>\n",
              "      <td>01/03/2019</td>\n",
              "      <td>Banglore</td>\n",
              "      <td>New Delhi</td>\n",
              "      <td>BLR → BOM → DEL</td>\n",
              "      <td>07:00</td>\n",
              "      <td>05:05 02 Mar</td>\n",
              "      <td>22h 5m</td>\n",
              "      <td>1 stop</td>\n",
              "      <td>No info</td>\n",
              "      <td>26890</td>\n",
              "    </tr>\n",
              "    <tr>\n",
              "      <th>8308</th>\n",
              "      <td>IndiGo</td>\n",
              "      <td>01/03/2019</td>\n",
              "      <td>Banglore</td>\n",
              "      <td>New Delhi</td>\n",
              "      <td>BLR → DEL</td>\n",
              "      <td>18:25</td>\n",
              "      <td>21:20</td>\n",
              "      <td>2h 55m</td>\n",
              "      <td>non-stop</td>\n",
              "      <td>No info</td>\n",
              "      <td>12649</td>\n",
              "    </tr>\n",
              "  </tbody>\n",
              "</table>\n",
              "</div>"
            ],
            "text/plain": [
              "           Airline Date_of_Journey    Source  ... Total_Stops Additional_Info  Price\n",
              "9848     Air India      01/03/2019  Banglore  ...     2 stops         No info  17135\n",
              "6024     Air India      01/03/2019  Banglore  ...      1 stop  1 Long layover  14594\n",
              "2405   Jet Airways      01/03/2019  Banglore  ...      1 stop  1 Long layover  22270\n",
              "10383  Jet Airways      01/03/2019  Banglore  ...      1 stop         No info  26890\n",
              "8308        IndiGo      01/03/2019  Banglore  ...    non-stop         No info  12649\n",
              "\n",
              "[5 rows x 11 columns]"
            ]
          },
          "metadata": {
            "tags": []
          },
          "execution_count": 15
        }
      ]
    },
    {
      "cell_type": "code",
      "metadata": {
        "colab": {
          "base_uri": "https://localhost:8080/",
          "height": 206
        },
        "id": "uYvhlUSP7Nzf",
        "outputId": "61287f8b-3bd3-45a5-f155-5d57c0c27b96"
      },
      "source": [
        "# Addidng Date,Month and Year column\r\n",
        "df['year'] = pd.DatetimeIndex(df['Date_of_Journey']).year\r\n",
        "df['month'] = pd.DatetimeIndex(df['Date_of_Journey']).month\r\n",
        "df['Day'] = pd.DatetimeIndex(df['Date_of_Journey']).day\r\n",
        "df.head()"
      ],
      "execution_count": 16,
      "outputs": [
        {
          "output_type": "execute_result",
          "data": {
            "text/html": [
              "<div>\n",
              "<style scoped>\n",
              "    .dataframe tbody tr th:only-of-type {\n",
              "        vertical-align: middle;\n",
              "    }\n",
              "\n",
              "    .dataframe tbody tr th {\n",
              "        vertical-align: top;\n",
              "    }\n",
              "\n",
              "    .dataframe thead th {\n",
              "        text-align: right;\n",
              "    }\n",
              "</style>\n",
              "<table border=\"1\" class=\"dataframe\">\n",
              "  <thead>\n",
              "    <tr style=\"text-align: right;\">\n",
              "      <th></th>\n",
              "      <th>Airline</th>\n",
              "      <th>Date_of_Journey</th>\n",
              "      <th>Source</th>\n",
              "      <th>Destination</th>\n",
              "      <th>Route</th>\n",
              "      <th>Dep_Time</th>\n",
              "      <th>Arrival_Time</th>\n",
              "      <th>Duration</th>\n",
              "      <th>Total_Stops</th>\n",
              "      <th>Additional_Info</th>\n",
              "      <th>Price</th>\n",
              "      <th>year</th>\n",
              "      <th>month</th>\n",
              "      <th>Day</th>\n",
              "    </tr>\n",
              "  </thead>\n",
              "  <tbody>\n",
              "    <tr>\n",
              "      <th>9848</th>\n",
              "      <td>Air India</td>\n",
              "      <td>01/03/2019</td>\n",
              "      <td>Banglore</td>\n",
              "      <td>New Delhi</td>\n",
              "      <td>BLR → BOM → AMD → DEL</td>\n",
              "      <td>08:50</td>\n",
              "      <td>23:55 02 Mar</td>\n",
              "      <td>39h 5m</td>\n",
              "      <td>2 stops</td>\n",
              "      <td>No info</td>\n",
              "      <td>17135</td>\n",
              "      <td>2019</td>\n",
              "      <td>1</td>\n",
              "      <td>3</td>\n",
              "    </tr>\n",
              "    <tr>\n",
              "      <th>6024</th>\n",
              "      <td>Air India</td>\n",
              "      <td>01/03/2019</td>\n",
              "      <td>Banglore</td>\n",
              "      <td>New Delhi</td>\n",
              "      <td>BLR → MAA → DEL</td>\n",
              "      <td>11:50</td>\n",
              "      <td>08:55 02 Mar</td>\n",
              "      <td>21h 5m</td>\n",
              "      <td>1 stop</td>\n",
              "      <td>1 Long layover</td>\n",
              "      <td>14594</td>\n",
              "      <td>2019</td>\n",
              "      <td>1</td>\n",
              "      <td>3</td>\n",
              "    </tr>\n",
              "    <tr>\n",
              "      <th>2405</th>\n",
              "      <td>Jet Airways</td>\n",
              "      <td>01/03/2019</td>\n",
              "      <td>Banglore</td>\n",
              "      <td>New Delhi</td>\n",
              "      <td>BLR → BOM → DEL</td>\n",
              "      <td>14:05</td>\n",
              "      <td>07:40 02 Mar</td>\n",
              "      <td>17h 35m</td>\n",
              "      <td>1 stop</td>\n",
              "      <td>1 Long layover</td>\n",
              "      <td>22270</td>\n",
              "      <td>2019</td>\n",
              "      <td>1</td>\n",
              "      <td>3</td>\n",
              "    </tr>\n",
              "    <tr>\n",
              "      <th>10383</th>\n",
              "      <td>Jet Airways</td>\n",
              "      <td>01/03/2019</td>\n",
              "      <td>Banglore</td>\n",
              "      <td>New Delhi</td>\n",
              "      <td>BLR → BOM → DEL</td>\n",
              "      <td>07:00</td>\n",
              "      <td>05:05 02 Mar</td>\n",
              "      <td>22h 5m</td>\n",
              "      <td>1 stop</td>\n",
              "      <td>No info</td>\n",
              "      <td>26890</td>\n",
              "      <td>2019</td>\n",
              "      <td>1</td>\n",
              "      <td>3</td>\n",
              "    </tr>\n",
              "    <tr>\n",
              "      <th>8308</th>\n",
              "      <td>IndiGo</td>\n",
              "      <td>01/03/2019</td>\n",
              "      <td>Banglore</td>\n",
              "      <td>New Delhi</td>\n",
              "      <td>BLR → DEL</td>\n",
              "      <td>18:25</td>\n",
              "      <td>21:20</td>\n",
              "      <td>2h 55m</td>\n",
              "      <td>non-stop</td>\n",
              "      <td>No info</td>\n",
              "      <td>12649</td>\n",
              "      <td>2019</td>\n",
              "      <td>1</td>\n",
              "      <td>3</td>\n",
              "    </tr>\n",
              "  </tbody>\n",
              "</table>\n",
              "</div>"
            ],
            "text/plain": [
              "           Airline Date_of_Journey    Source  ...  year month Day\n",
              "9848     Air India      01/03/2019  Banglore  ...  2019     1   3\n",
              "6024     Air India      01/03/2019  Banglore  ...  2019     1   3\n",
              "2405   Jet Airways      01/03/2019  Banglore  ...  2019     1   3\n",
              "10383  Jet Airways      01/03/2019  Banglore  ...  2019     1   3\n",
              "8308        IndiGo      01/03/2019  Banglore  ...  2019     1   3\n",
              "\n",
              "[5 rows x 14 columns]"
            ]
          },
          "metadata": {
            "tags": []
          },
          "execution_count": 16
        }
      ]
    },
    {
      "cell_type": "code",
      "metadata": {
        "colab": {
          "base_uri": "https://localhost:8080/",
          "height": 297
        },
        "id": "z5SOJi1BRLR-",
        "outputId": "86a643cd-ec7a-4b19-d61d-26f72b1c2b06"
      },
      "source": [
        "df['Date_of_Journey']=pd.to_datetime(df['Date_of_Journey'])\r\n",
        "df['weekday']=df[['Date_of_Journey']].apply(lambda x:x.dt.day_name())\r\n",
        "sns.barplot('weekday','Price',data=df)"
      ],
      "execution_count": 17,
      "outputs": [
        {
          "output_type": "execute_result",
          "data": {
            "text/plain": [
              "<matplotlib.axes._subplots.AxesSubplot at 0x7f4a133f8d10>"
            ]
          },
          "metadata": {
            "tags": []
          },
          "execution_count": 17
        },
        {
          "output_type": "display_data",
          "data": {
            "image/png": "[encoded data removed]",
            "text/plain": [
              "<Figure size 432x288 with 1 Axes>"
            ]
          },
          "metadata": {
            "tags": [],
            "needs_background": "light"
          }
        }
      ]
    },
    {
      "cell_type": "code",
      "metadata": {
        "colab": {
          "base_uri": "https://localhost:8080/",
          "height": 297
        },
        "id": "JUMaohy17vrN",
        "outputId": "79c7cc8f-875e-4ff5-d21a-47bd0ec3e50f"
      },
      "source": [
        "sns.countplot(df[\"month\"])"
      ],
      "execution_count": 18,
      "outputs": [
        {
          "output_type": "execute_result",
          "data": {
            "text/plain": [
              "<matplotlib.axes._subplots.AxesSubplot at 0x7f4a122c6ad0>"
            ]
          },
          "metadata": {
            "tags": []
          },
          "execution_count": 18
        },
        {
          "output_type": "display_data",
          "data": {
            "image/png": "[encoded data removed]",
            "text/plain": [
              "<Figure size 432x288 with 1 Axes>"
            ]
          },
          "metadata": {
            "tags": [],
            "needs_background": "light"
          }
        }
      ]
    },
    {
      "cell_type": "code",
      "metadata": {
        "colab": {
          "base_uri": "https://localhost:8080/",
          "height": 81
        },
        "id": "lPG1YCNd_k_G",
        "outputId": "5731fb3a-ba76-4b03-f7b4-f1b91faeca16"
      },
      "source": [
        "df[df['Total_Stops'].isnull()]"
      ],
      "execution_count": 19,
      "outputs": [
        {
          "output_type": "execute_result",
          "data": {
            "text/html": [
              "<div>\n",
              "<style scoped>\n",
              "    .dataframe tbody tr th:only-of-type {\n",
              "        vertical-align: middle;\n",
              "    }\n",
              "\n",
              "    .dataframe tbody tr th {\n",
              "        vertical-align: top;\n",
              "    }\n",
              "\n",
              "    .dataframe thead th {\n",
              "        text-align: right;\n",
              "    }\n",
              "</style>\n",
              "<table border=\"1\" class=\"dataframe\">\n",
              "  <thead>\n",
              "    <tr style=\"text-align: right;\">\n",
              "      <th></th>\n",
              "      <th>Airline</th>\n",
              "      <th>Date_of_Journey</th>\n",
              "      <th>Source</th>\n",
              "      <th>Destination</th>\n",
              "      <th>Route</th>\n",
              "      <th>Dep_Time</th>\n",
              "      <th>Arrival_Time</th>\n",
              "      <th>Duration</th>\n",
              "      <th>Total_Stops</th>\n",
              "      <th>Additional_Info</th>\n",
              "      <th>Price</th>\n",
              "      <th>year</th>\n",
              "      <th>month</th>\n",
              "      <th>Day</th>\n",
              "      <th>weekday</th>\n",
              "    </tr>\n",
              "  </thead>\n",
              "  <tbody>\n",
              "    <tr>\n",
              "      <th>9039</th>\n",
              "      <td>Air India</td>\n",
              "      <td>2019-06-05</td>\n",
              "      <td>Delhi</td>\n",
              "      <td>Cochin</td>\n",
              "      <td>NaN</td>\n",
              "      <td>09:45</td>\n",
              "      <td>09:25 07 May</td>\n",
              "      <td>23h 40m</td>\n",
              "      <td>NaN</td>\n",
              "      <td>No info</td>\n",
              "      <td>7480</td>\n",
              "      <td>2019</td>\n",
              "      <td>6</td>\n",
              "      <td>5</td>\n",
              "      <td>Wednesday</td>\n",
              "    </tr>\n",
              "  </tbody>\n",
              "</table>\n",
              "</div>"
            ],
            "text/plain": [
              "        Airline Date_of_Journey Source Destination  ...  year month Day    weekday\n",
              "9039  Air India      2019-06-05  Delhi      Cochin  ...  2019     6   5  Wednesday\n",
              "\n",
              "[1 rows x 15 columns]"
            ]
          },
          "metadata": {
            "tags": []
          },
          "execution_count": 19
        }
      ]
    },
    {
      "cell_type": "code",
      "metadata": {
        "id": "DX0lKZ-tIVMv"
      },
      "source": [
        "# Dropping the Null valued row\r\n",
        "df.dropna(axis=0, inplace=True)"
      ],
      "execution_count": 20,
      "outputs": []
    },
    {
      "cell_type": "code",
      "metadata": {
        "id": "QxPvINvlKE9V"
      },
      "source": [
        ""
      ],
      "execution_count": 20,
      "outputs": []
    },
    {
      "cell_type": "code",
      "metadata": {
        "id": "lwX6ZMLfKGSf"
      },
      "source": [
        "def stops_into_number(x):\r\n",
        "  if x=='1 stop':\r\n",
        "    return 1\r\n",
        "  elif x=='2 stops':\r\n",
        "    return 2\r\n",
        "  elif x=='3 stops':\r\n",
        "    return 3\r\n",
        "  elif x=='4 stops':\r\n",
        "    return 4\r\n",
        "  else:\r\n",
        "    return 0\r\n"
      ],
      "execution_count": 21,
      "outputs": []
    },
    {
      "cell_type": "code",
      "metadata": {
        "id": "fsRvPDKma3XC"
      },
      "source": [
        "df['Total_Stops']=df['Total_Stops'].apply(lambda x: stops_into_number(x))"
      ],
      "execution_count": 22,
      "outputs": []
    },
    {
      "cell_type": "code",
      "metadata": {
        "colab": {
          "base_uri": "https://localhost:8080/"
        },
        "id": "uog9jM2TbEkV",
        "outputId": "1bf802dc-01ab-4a08-aeca-e3a7fba27226"
      },
      "source": [
        "df['Total_Stops']"
      ],
      "execution_count": 23,
      "outputs": [
        {
          "output_type": "execute_result",
          "data": {
            "text/plain": [
              "9848     2\n",
              "6024     1\n",
              "2405     1\n",
              "10383    1\n",
              "8308     0\n",
              "        ..\n",
              "2875     1\n",
              "2874     1\n",
              "2873     1\n",
              "6479     0\n",
              "7297     2\n",
              "Name: Total_Stops, Length: 10682, dtype: int64"
            ]
          },
          "metadata": {
            "tags": []
          },
          "execution_count": 23
        }
      ]
    },
    {
      "cell_type": "code",
      "metadata": {
        "colab": {
          "base_uri": "https://localhost:8080/"
        },
        "id": "KA1A4CaSbI_G",
        "outputId": "98a79d0c-992f-4e63-cbef-ef2ce2997dc1"
      },
      "source": [
        "df.fillna(0, inplace  = True)\r\n",
        "df['Total_Stops'] = df['Total_Stops'].apply(lambda x : int(x))\r\n",
        "df['Total_Stops']"
      ],
      "execution_count": 24,
      "outputs": [
        {
          "output_type": "execute_result",
          "data": {
            "text/plain": [
              "9848     2\n",
              "6024     1\n",
              "2405     1\n",
              "10383    1\n",
              "8308     0\n",
              "        ..\n",
              "2875     1\n",
              "2874     1\n",
              "2873     1\n",
              "6479     0\n",
              "7297     2\n",
              "Name: Total_Stops, Length: 10682, dtype: int64"
            ]
          },
          "metadata": {
            "tags": []
          },
          "execution_count": 24
        }
      ]
    },
    {
      "cell_type": "code",
      "metadata": {
        "colab": {
          "base_uri": "https://localhost:8080/",
          "height": 206
        },
        "id": "kWfMCTu9hRFT",
        "outputId": "49dd9c46-1566-49eb-b654-fea861e953be"
      },
      "source": [
        "df.head()"
      ],
      "execution_count": 25,
      "outputs": [
        {
          "output_type": "execute_result",
          "data": {
            "text/html": [
              "<div>\n",
              "<style scoped>\n",
              "    .dataframe tbody tr th:only-of-type {\n",
              "        vertical-align: middle;\n",
              "    }\n",
              "\n",
              "    .dataframe tbody tr th {\n",
              "        vertical-align: top;\n",
              "    }\n",
              "\n",
              "    .dataframe thead th {\n",
              "        text-align: right;\n",
              "    }\n",
              "</style>\n",
              "<table border=\"1\" class=\"dataframe\">\n",
              "  <thead>\n",
              "    <tr style=\"text-align: right;\">\n",
              "      <th></th>\n",
              "      <th>Airline</th>\n",
              "      <th>Date_of_Journey</th>\n",
              "      <th>Source</th>\n",
              "      <th>Destination</th>\n",
              "      <th>Route</th>\n",
              "      <th>Dep_Time</th>\n",
              "      <th>Arrival_Time</th>\n",
              "      <th>Duration</th>\n",
              "      <th>Total_Stops</th>\n",
              "      <th>Additional_Info</th>\n",
              "      <th>Price</th>\n",
              "      <th>year</th>\n",
              "      <th>month</th>\n",
              "      <th>Day</th>\n",
              "      <th>weekday</th>\n",
              "    </tr>\n",
              "  </thead>\n",
              "  <tbody>\n",
              "    <tr>\n",
              "      <th>9848</th>\n",
              "      <td>Air India</td>\n",
              "      <td>2019-01-03</td>\n",
              "      <td>Banglore</td>\n",
              "      <td>New Delhi</td>\n",
              "      <td>BLR → BOM → AMD → DEL</td>\n",
              "      <td>08:50</td>\n",
              "      <td>23:55 02 Mar</td>\n",
              "      <td>39h 5m</td>\n",
              "      <td>2</td>\n",
              "      <td>No info</td>\n",
              "      <td>17135</td>\n",
              "      <td>2019</td>\n",
              "      <td>1</td>\n",
              "      <td>3</td>\n",
              "      <td>Thursday</td>\n",
              "    </tr>\n",
              "    <tr>\n",
              "      <th>6024</th>\n",
              "      <td>Air India</td>\n",
              "      <td>2019-01-03</td>\n",
              "      <td>Banglore</td>\n",
              "      <td>New Delhi</td>\n",
              "      <td>BLR → MAA → DEL</td>\n",
              "      <td>11:50</td>\n",
              "      <td>08:55 02 Mar</td>\n",
              "      <td>21h 5m</td>\n",
              "      <td>1</td>\n",
              "      <td>1 Long layover</td>\n",
              "      <td>14594</td>\n",
              "      <td>2019</td>\n",
              "      <td>1</td>\n",
              "      <td>3</td>\n",
              "      <td>Thursday</td>\n",
              "    </tr>\n",
              "    <tr>\n",
              "      <th>2405</th>\n",
              "      <td>Jet Airways</td>\n",
              "      <td>2019-01-03</td>\n",
              "      <td>Banglore</td>\n",
              "      <td>New Delhi</td>\n",
              "      <td>BLR → BOM → DEL</td>\n",
              "      <td>14:05</td>\n",
              "      <td>07:40 02 Mar</td>\n",
              "      <td>17h 35m</td>\n",
              "      <td>1</td>\n",
              "      <td>1 Long layover</td>\n",
              "      <td>22270</td>\n",
              "      <td>2019</td>\n",
              "      <td>1</td>\n",
              "      <td>3</td>\n",
              "      <td>Thursday</td>\n",
              "    </tr>\n",
              "    <tr>\n",
              "      <th>10383</th>\n",
              "      <td>Jet Airways</td>\n",
              "      <td>2019-01-03</td>\n",
              "      <td>Banglore</td>\n",
              "      <td>New Delhi</td>\n",
              "      <td>BLR → BOM → DEL</td>\n",
              "      <td>07:00</td>\n",
              "      <td>05:05 02 Mar</td>\n",
              "      <td>22h 5m</td>\n",
              "      <td>1</td>\n",
              "      <td>No info</td>\n",
              "      <td>26890</td>\n",
              "      <td>2019</td>\n",
              "      <td>1</td>\n",
              "      <td>3</td>\n",
              "      <td>Thursday</td>\n",
              "    </tr>\n",
              "    <tr>\n",
              "      <th>8308</th>\n",
              "      <td>IndiGo</td>\n",
              "      <td>2019-01-03</td>\n",
              "      <td>Banglore</td>\n",
              "      <td>New Delhi</td>\n",
              "      <td>BLR → DEL</td>\n",
              "      <td>18:25</td>\n",
              "      <td>21:20</td>\n",
              "      <td>2h 55m</td>\n",
              "      <td>0</td>\n",
              "      <td>No info</td>\n",
              "      <td>12649</td>\n",
              "      <td>2019</td>\n",
              "      <td>1</td>\n",
              "      <td>3</td>\n",
              "      <td>Thursday</td>\n",
              "    </tr>\n",
              "  </tbody>\n",
              "</table>\n",
              "</div>"
            ],
            "text/plain": [
              "           Airline Date_of_Journey    Source  ... month Day   weekday\n",
              "9848     Air India      2019-01-03  Banglore  ...     1   3  Thursday\n",
              "6024     Air India      2019-01-03  Banglore  ...     1   3  Thursday\n",
              "2405   Jet Airways      2019-01-03  Banglore  ...     1   3  Thursday\n",
              "10383  Jet Airways      2019-01-03  Banglore  ...     1   3  Thursday\n",
              "8308        IndiGo      2019-01-03  Banglore  ...     1   3  Thursday\n",
              "\n",
              "[5 rows x 15 columns]"
            ]
          },
          "metadata": {
            "tags": []
          },
          "execution_count": 25
        }
      ]
    },
    {
      "cell_type": "code",
      "metadata": {
        "id": "0fQ-to6y1rGr"
      },
      "source": [
        "# Classification of time in morning, evening, afternoon, mid-night\r\n",
        "def conversion(x):\r\n",
        "  if int(x[:2]) >= 0 and int(x[:2]) < 6:\r\n",
        "      return 'mid_night'\r\n",
        "  elif int(x[:2]) >= 6 and int(x[:2]) < 12:\r\n",
        "      return 'morning'\r\n",
        "  elif int(x[:2]) >= 12 and int(x[:2]) < 18:\r\n",
        "      return 'afternoon'\r\n",
        "  elif int(x[:2]) >= 18 and int(x[:2]) < 24:\r\n",
        "      return 'evening'\r\n"
      ],
      "execution_count": 26,
      "outputs": []
    },
    {
      "cell_type": "code",
      "metadata": {
        "id": "z5cmiwTfDYWV"
      },
      "source": [
        "df['Flight_Time']=df['Dep_Time'].apply(lambda x: conversion(x))"
      ],
      "execution_count": 27,
      "outputs": []
    },
    {
      "cell_type": "code",
      "metadata": {
        "colab": {
          "base_uri": "https://localhost:8080/",
          "height": 299
        },
        "id": "S3fODBOWFFGd",
        "outputId": "726d2b23-54a9-4e5c-c3bc-5dc00f0540f7"
      },
      "source": [
        "sns.countplot(df['Flight_Time'])"
      ],
      "execution_count": 28,
      "outputs": [
        {
          "output_type": "execute_result",
          "data": {
            "text/plain": [
              "<matplotlib.axes._subplots.AxesSubplot at 0x7f4a132bcdd0>"
            ]
          },
          "metadata": {
            "tags": []
          },
          "execution_count": 28
        },
        {
          "output_type": "display_data",
          "data": {
            "image/png": "[encoded data removed]",
            "text/plain": [
              "<Figure size 432x288 with 1 Axes>"
            ]
          },
          "metadata": {
            "tags": [],
            "needs_background": "light"
          }
        }
      ]
    },
    {
      "cell_type": "code",
      "metadata": {
        "colab": {
          "base_uri": "https://localhost:8080/"
        },
        "id": "w3Axq6o6FdH4",
        "outputId": "e0e380fc-bc07-49b0-c283-09d0ec09f7b7"
      },
      "source": [
        "df['Airline'].unique()"
      ],
      "execution_count": 29,
      "outputs": [
        {
          "output_type": "execute_result",
          "data": {
            "text/plain": [
              "array(['Air India', 'Jet Airways', 'IndiGo', 'Jet Airways Business',\n",
              "       'Air Asia', 'SpiceJet', 'Vistara', 'GoAir',\n",
              "       'Vistara Premium economy', 'Multiple carriers',\n",
              "       'Multiple carriers Premium economy', 'Trujet'], dtype=object)"
            ]
          },
          "metadata": {
            "tags": []
          },
          "execution_count": 29
        }
      ]
    },
    {
      "cell_type": "code",
      "metadata": {
        "colab": {
          "base_uri": "https://localhost:8080/",
          "height": 810
        },
        "id": "3tkGeWmPM2Vm",
        "outputId": "5b52e596-a526-4575-8d36-4825d5145004"
      },
      "source": [
        "plt.figure(figsize = (10, 10))\r\n",
        "sns.countplot(df['Airline'])\r\n",
        "plt.xticks(rotation = 90)"
      ],
      "execution_count": 30,
      "outputs": [
        {
          "output_type": "execute_result",
          "data": {
            "text/plain": [
              "(array([ 0,  1,  2,  3,  4,  5,  6,  7,  8,  9, 10, 11]),\n",
              " <a list of 12 Text major ticklabel objects>)"
            ]
          },
          "metadata": {
            "tags": []
          },
          "execution_count": 30
        },
        {
          "output_type": "display_data",
          "data": {
            "image/png": "[encoded data removed]",
            "text/plain": [
              "<Figure size 720x720 with 1 Axes>"
            ]
          },
          "metadata": {
            "tags": [],
            "needs_background": "light"
          }
        }
      ]
    },
    {
      "cell_type": "code",
      "metadata": {
        "id": "GEPgbBpzM6a0"
      },
      "source": [
        "df['Airline'].replace(['Trujet', 'Vistara Premium economy'], 'Another', inplace = True)"
      ],
      "execution_count": 31,
      "outputs": []
    },
    {
      "cell_type": "code",
      "metadata": {
        "colab": {
          "base_uri": "https://localhost:8080/",
          "height": 810
        },
        "id": "2wE1ahycNZZF",
        "outputId": "8d3d50f0-1803-4006-fdd4-f982b7753027"
      },
      "source": [
        "plt.figure(figsize = (10, 10))\r\n",
        "sns.countplot(df['Airline'])\r\n",
        "plt.xticks(rotation = 90)"
      ],
      "execution_count": 32,
      "outputs": [
        {
          "output_type": "execute_result",
          "data": {
            "text/plain": [
              "(array([ 0,  1,  2,  3,  4,  5,  6,  7,  8,  9, 10]),\n",
              " <a list of 11 Text major ticklabel objects>)"
            ]
          },
          "metadata": {
            "tags": []
          },
          "execution_count": 32
        },
        {
          "output_type": "display_data",
          "data": {
            "image/png": "[encoded data removed]",
            "text/plain": [
              "<Figure size 720x720 with 1 Axes>"
            ]
          },
          "metadata": {
            "tags": [],
            "needs_background": "light"
          }
        }
      ]
    },
    {
      "cell_type": "code",
      "metadata": {
        "colab": {
          "base_uri": "https://localhost:8080/"
        },
        "id": "CO4GjGIwp8k1",
        "outputId": "0e4b5aaa-df45-4755-803b-0577081b33ad"
      },
      "source": [
        "df['Duration']"
      ],
      "execution_count": 33,
      "outputs": [
        {
          "output_type": "execute_result",
          "data": {
            "text/plain": [
              "9848      39h 5m\n",
              "6024      21h 5m\n",
              "2405     17h 35m\n",
              "10383     22h 5m\n",
              "8308      2h 55m\n",
              "          ...   \n",
              "2875     12h 30m\n",
              "2874     24h 40m\n",
              "2873      27h 5m\n",
              "6479      2h 55m\n",
              "7297     23h 40m\n",
              "Name: Duration, Length: 10682, dtype: object"
            ]
          },
          "metadata": {
            "tags": []
          },
          "execution_count": 33
        }
      ]
    },
    {
      "cell_type": "code",
      "metadata": {
        "id": "TdPb8brDNcv4"
      },
      "source": [
        "# Duration to seconds\r\n",
        "def duration_to_seconds(x):\r\n",
        "  a=x.split(' ')\r\n",
        "  count=0\r\n",
        "  for i in range(len(a)):\r\n",
        "    tp=''\r\n",
        "    for j in a[i]:\r\n",
        "      if j.isnumeric():\r\n",
        "        tp+=j\r\n",
        "      elif j=='h':\r\n",
        "        k=0\r\n",
        "        break\r\n",
        "      elif j=='m':\r\n",
        "        k=1\r\n",
        "        break \r\n",
        "    if k==0:\r\n",
        "        count+=int(tp)*60\r\n",
        "    elif k==1:\r\n",
        "        count+=int(tp)\r\n",
        "  return count\r\n"
      ],
      "execution_count": 34,
      "outputs": []
    },
    {
      "cell_type": "code",
      "metadata": {
        "colab": {
          "base_uri": "https://localhost:8080/"
        },
        "id": "jESm3E-trHwR",
        "outputId": "231227c5-47b0-4f88-cef2-eef6d5778f7f"
      },
      "source": [
        "df['Duration']=df['Duration'].apply(lambda x: duration_to_seconds(x))\r\n",
        "df['Duration']"
      ],
      "execution_count": 35,
      "outputs": [
        {
          "output_type": "execute_result",
          "data": {
            "text/plain": [
              "9848     2345\n",
              "6024     1265\n",
              "2405     1055\n",
              "10383    1325\n",
              "8308      175\n",
              "         ... \n",
              "2875      750\n",
              "2874     1480\n",
              "2873     1625\n",
              "6479      175\n",
              "7297     1420\n",
              "Name: Duration, Length: 10682, dtype: int64"
            ]
          },
          "metadata": {
            "tags": []
          },
          "execution_count": 35
        }
      ]
    },
    {
      "cell_type": "code",
      "metadata": {
        "id": "_-vtREIdrVGh",
        "colab": {
          "base_uri": "https://localhost:8080/",
          "height": 258
        },
        "outputId": "86b4ad77-e6d6-409e-8a91-4ac5b5477620"
      },
      "source": [
        "df.head()"
      ],
      "execution_count": 36,
      "outputs": [
        {
          "output_type": "execute_result",
          "data": {
            "text/html": [
              "<div>\n",
              "<style scoped>\n",
              "    .dataframe tbody tr th:only-of-type {\n",
              "        vertical-align: middle;\n",
              "    }\n",
              "\n",
              "    .dataframe tbody tr th {\n",
              "        vertical-align: top;\n",
              "    }\n",
              "\n",
              "    .dataframe thead th {\n",
              "        text-align: right;\n",
              "    }\n",
              "</style>\n",
              "<table border=\"1\" class=\"dataframe\">\n",
              "  <thead>\n",
              "    <tr style=\"text-align: right;\">\n",
              "      <th></th>\n",
              "      <th>Airline</th>\n",
              "      <th>Date_of_Journey</th>\n",
              "      <th>Source</th>\n",
              "      <th>Destination</th>\n",
              "      <th>Route</th>\n",
              "      <th>Dep_Time</th>\n",
              "      <th>Arrival_Time</th>\n",
              "      <th>Duration</th>\n",
              "      <th>Total_Stops</th>\n",
              "      <th>Additional_Info</th>\n",
              "      <th>Price</th>\n",
              "      <th>year</th>\n",
              "      <th>month</th>\n",
              "      <th>Day</th>\n",
              "      <th>weekday</th>\n",
              "      <th>Flight_Time</th>\n",
              "    </tr>\n",
              "  </thead>\n",
              "  <tbody>\n",
              "    <tr>\n",
              "      <th>9848</th>\n",
              "      <td>Air India</td>\n",
              "      <td>2019-01-03</td>\n",
              "      <td>Banglore</td>\n",
              "      <td>New Delhi</td>\n",
              "      <td>BLR → BOM → AMD → DEL</td>\n",
              "      <td>08:50</td>\n",
              "      <td>23:55 02 Mar</td>\n",
              "      <td>2345</td>\n",
              "      <td>2</td>\n",
              "      <td>No info</td>\n",
              "      <td>17135</td>\n",
              "      <td>2019</td>\n",
              "      <td>1</td>\n",
              "      <td>3</td>\n",
              "      <td>Thursday</td>\n",
              "      <td>morning</td>\n",
              "    </tr>\n",
              "    <tr>\n",
              "      <th>6024</th>\n",
              "      <td>Air India</td>\n",
              "      <td>2019-01-03</td>\n",
              "      <td>Banglore</td>\n",
              "      <td>New Delhi</td>\n",
              "      <td>BLR → MAA → DEL</td>\n",
              "      <td>11:50</td>\n",
              "      <td>08:55 02 Mar</td>\n",
              "      <td>1265</td>\n",
              "      <td>1</td>\n",
              "      <td>1 Long layover</td>\n",
              "      <td>14594</td>\n",
              "      <td>2019</td>\n",
              "      <td>1</td>\n",
              "      <td>3</td>\n",
              "      <td>Thursday</td>\n",
              "      <td>morning</td>\n",
              "    </tr>\n",
              "    <tr>\n",
              "      <th>2405</th>\n",
              "      <td>Jet Airways</td>\n",
              "      <td>2019-01-03</td>\n",
              "      <td>Banglore</td>\n",
              "      <td>New Delhi</td>\n",
              "      <td>BLR → BOM → DEL</td>\n",
              "      <td>14:05</td>\n",
              "      <td>07:40 02 Mar</td>\n",
              "      <td>1055</td>\n",
              "      <td>1</td>\n",
              "      <td>1 Long layover</td>\n",
              "      <td>22270</td>\n",
              "      <td>2019</td>\n",
              "      <td>1</td>\n",
              "      <td>3</td>\n",
              "      <td>Thursday</td>\n",
              "      <td>afternoon</td>\n",
              "    </tr>\n",
              "    <tr>\n",
              "      <th>10383</th>\n",
              "      <td>Jet Airways</td>\n",
              "      <td>2019-01-03</td>\n",
              "      <td>Banglore</td>\n",
              "      <td>New Delhi</td>\n",
              "      <td>BLR → BOM → DEL</td>\n",
              "      <td>07:00</td>\n",
              "      <td>05:05 02 Mar</td>\n",
              "      <td>1325</td>\n",
              "      <td>1</td>\n",
              "      <td>No info</td>\n",
              "      <td>26890</td>\n",
              "      <td>2019</td>\n",
              "      <td>1</td>\n",
              "      <td>3</td>\n",
              "      <td>Thursday</td>\n",
              "      <td>morning</td>\n",
              "    </tr>\n",
              "    <tr>\n",
              "      <th>8308</th>\n",
              "      <td>IndiGo</td>\n",
              "      <td>2019-01-03</td>\n",
              "      <td>Banglore</td>\n",
              "      <td>New Delhi</td>\n",
              "      <td>BLR → DEL</td>\n",
              "      <td>18:25</td>\n",
              "      <td>21:20</td>\n",
              "      <td>175</td>\n",
              "      <td>0</td>\n",
              "      <td>No info</td>\n",
              "      <td>12649</td>\n",
              "      <td>2019</td>\n",
              "      <td>1</td>\n",
              "      <td>3</td>\n",
              "      <td>Thursday</td>\n",
              "      <td>evening</td>\n",
              "    </tr>\n",
              "  </tbody>\n",
              "</table>\n",
              "</div>"
            ],
            "text/plain": [
              "           Airline Date_of_Journey    Source  ... Day   weekday Flight_Time\n",
              "9848     Air India      2019-01-03  Banglore  ...   3  Thursday     morning\n",
              "6024     Air India      2019-01-03  Banglore  ...   3  Thursday     morning\n",
              "2405   Jet Airways      2019-01-03  Banglore  ...   3  Thursday   afternoon\n",
              "10383  Jet Airways      2019-01-03  Banglore  ...   3  Thursday     morning\n",
              "8308        IndiGo      2019-01-03  Banglore  ...   3  Thursday     evening\n",
              "\n",
              "[5 rows x 16 columns]"
            ]
          },
          "metadata": {
            "tags": []
          },
          "execution_count": 36
        }
      ]
    },
    {
      "cell_type": "code",
      "metadata": {
        "id": "zmmjf6IdrXP0",
        "colab": {
          "base_uri": "https://localhost:8080/",
          "height": 766
        },
        "outputId": "768c9d88-e5d7-48cc-9f4f-3dc36c84fc4e"
      },
      "source": [
        "plt.figure(figsize = (10, 10))\r\n",
        "sns.scatterplot(df['Additional_Info'],df['Price'])\r\n",
        "plt.xticks(rotation = 90)"
      ],
      "execution_count": 37,
      "outputs": [
        {
          "output_type": "execute_result",
          "data": {
            "text/plain": [
              "([0, 1, 2, 3, 4, 5, 6, 7, 8, 9], <a list of 10 Text major ticklabel objects>)"
            ]
          },
          "metadata": {
            "tags": []
          },
          "execution_count": 37
        },
        {
          "output_type": "display_data",
          "data": {
            "image/png": "[encoded data removed]",
            "text/plain": [
              "<Figure size 720x720 with 1 Axes>"
            ]
          },
          "metadata": {
            "tags": [],
            "needs_background": "light"
          }
        }
      ]
    },
    {
      "cell_type": "code",
      "metadata": {
        "colab": {
          "base_uri": "https://localhost:8080/"
        },
        "id": "pMYcheM45AyH",
        "outputId": "6cdfa97c-683f-4a52-9742-056bebe9ff7d"
      },
      "source": [
        "df['Additional_Info'].unique()"
      ],
      "execution_count": 38,
      "outputs": [
        {
          "output_type": "execute_result",
          "data": {
            "text/plain": [
              "array(['No info', '1 Long layover', 'Business class', 'Red-eye flight',\n",
              "       'Change airports', '2 Long layover', 'No Info', '1 Short layover',\n",
              "       'In-flight meal not included', 'No check-in baggage included'],\n",
              "      dtype=object)"
            ]
          },
          "metadata": {
            "tags": []
          },
          "execution_count": 38
        }
      ]
    },
    {
      "cell_type": "code",
      "metadata": {
        "colab": {
          "base_uri": "https://localhost:8080/"
        },
        "id": "sHLImPJS7KWw",
        "outputId": "74ab2f65-16bd-42f5-cba7-13068eb964ec"
      },
      "source": [
        "df['Additional_Info']=df['Additional_Info'].str.replace('No info','No Info')\r\n",
        "df['Additional_Info'].unique()"
      ],
      "execution_count": 39,
      "outputs": [
        {
          "output_type": "execute_result",
          "data": {
            "text/plain": [
              "array(['No Info', '1 Long layover', 'Business class', 'Red-eye flight',\n",
              "       'Change airports', '2 Long layover', '1 Short layover',\n",
              "       'In-flight meal not included', 'No check-in baggage included'],\n",
              "      dtype=object)"
            ]
          },
          "metadata": {
            "tags": []
          },
          "execution_count": 39
        }
      ]
    },
    {
      "cell_type": "code",
      "metadata": {
        "id": "J9vfEvNwK2s5",
        "colab": {
          "base_uri": "https://localhost:8080/",
          "height": 258
        },
        "outputId": "af11820f-96ef-4430-e2a9-2e0b31e620fc"
      },
      "source": [
        "df.head()"
      ],
      "execution_count": 40,
      "outputs": [
        {
          "output_type": "execute_result",
          "data": {
            "text/html": [
              "<div>\n",
              "<style scoped>\n",
              "    .dataframe tbody tr th:only-of-type {\n",
              "        vertical-align: middle;\n",
              "    }\n",
              "\n",
              "    .dataframe tbody tr th {\n",
              "        vertical-align: top;\n",
              "    }\n",
              "\n",
              "    .dataframe thead th {\n",
              "        text-align: right;\n",
              "    }\n",
              "</style>\n",
              "<table border=\"1\" class=\"dataframe\">\n",
              "  <thead>\n",
              "    <tr style=\"text-align: right;\">\n",
              "      <th></th>\n",
              "      <th>Airline</th>\n",
              "      <th>Date_of_Journey</th>\n",
              "      <th>Source</th>\n",
              "      <th>Destination</th>\n",
              "      <th>Route</th>\n",
              "      <th>Dep_Time</th>\n",
              "      <th>Arrival_Time</th>\n",
              "      <th>Duration</th>\n",
              "      <th>Total_Stops</th>\n",
              "      <th>Additional_Info</th>\n",
              "      <th>Price</th>\n",
              "      <th>year</th>\n",
              "      <th>month</th>\n",
              "      <th>Day</th>\n",
              "      <th>weekday</th>\n",
              "      <th>Flight_Time</th>\n",
              "    </tr>\n",
              "  </thead>\n",
              "  <tbody>\n",
              "    <tr>\n",
              "      <th>9848</th>\n",
              "      <td>Air India</td>\n",
              "      <td>2019-01-03</td>\n",
              "      <td>Banglore</td>\n",
              "      <td>New Delhi</td>\n",
              "      <td>BLR → BOM → AMD → DEL</td>\n",
              "      <td>08:50</td>\n",
              "      <td>23:55 02 Mar</td>\n",
              "      <td>2345</td>\n",
              "      <td>2</td>\n",
              "      <td>No Info</td>\n",
              "      <td>17135</td>\n",
              "      <td>2019</td>\n",
              "      <td>1</td>\n",
              "      <td>3</td>\n",
              "      <td>Thursday</td>\n",
              "      <td>morning</td>\n",
              "    </tr>\n",
              "    <tr>\n",
              "      <th>6024</th>\n",
              "      <td>Air India</td>\n",
              "      <td>2019-01-03</td>\n",
              "      <td>Banglore</td>\n",
              "      <td>New Delhi</td>\n",
              "      <td>BLR → MAA → DEL</td>\n",
              "      <td>11:50</td>\n",
              "      <td>08:55 02 Mar</td>\n",
              "      <td>1265</td>\n",
              "      <td>1</td>\n",
              "      <td>1 Long layover</td>\n",
              "      <td>14594</td>\n",
              "      <td>2019</td>\n",
              "      <td>1</td>\n",
              "      <td>3</td>\n",
              "      <td>Thursday</td>\n",
              "      <td>morning</td>\n",
              "    </tr>\n",
              "    <tr>\n",
              "      <th>2405</th>\n",
              "      <td>Jet Airways</td>\n",
              "      <td>2019-01-03</td>\n",
              "      <td>Banglore</td>\n",
              "      <td>New Delhi</td>\n",
              "      <td>BLR → BOM → DEL</td>\n",
              "      <td>14:05</td>\n",
              "      <td>07:40 02 Mar</td>\n",
              "      <td>1055</td>\n",
              "      <td>1</td>\n",
              "      <td>1 Long layover</td>\n",
              "      <td>22270</td>\n",
              "      <td>2019</td>\n",
              "      <td>1</td>\n",
              "      <td>3</td>\n",
              "      <td>Thursday</td>\n",
              "      <td>afternoon</td>\n",
              "    </tr>\n",
              "    <tr>\n",
              "      <th>10383</th>\n",
              "      <td>Jet Airways</td>\n",
              "      <td>2019-01-03</td>\n",
              "      <td>Banglore</td>\n",
              "      <td>New Delhi</td>\n",
              "      <td>BLR → BOM → DEL</td>\n",
              "      <td>07:00</td>\n",
              "      <td>05:05 02 Mar</td>\n",
              "      <td>1325</td>\n",
              "      <td>1</td>\n",
              "      <td>No Info</td>\n",
              "      <td>26890</td>\n",
              "      <td>2019</td>\n",
              "      <td>1</td>\n",
              "      <td>3</td>\n",
              "      <td>Thursday</td>\n",
              "      <td>morning</td>\n",
              "    </tr>\n",
              "    <tr>\n",
              "      <th>8308</th>\n",
              "      <td>IndiGo</td>\n",
              "      <td>2019-01-03</td>\n",
              "      <td>Banglore</td>\n",
              "      <td>New Delhi</td>\n",
              "      <td>BLR → DEL</td>\n",
              "      <td>18:25</td>\n",
              "      <td>21:20</td>\n",
              "      <td>175</td>\n",
              "      <td>0</td>\n",
              "      <td>No Info</td>\n",
              "      <td>12649</td>\n",
              "      <td>2019</td>\n",
              "      <td>1</td>\n",
              "      <td>3</td>\n",
              "      <td>Thursday</td>\n",
              "      <td>evening</td>\n",
              "    </tr>\n",
              "  </tbody>\n",
              "</table>\n",
              "</div>"
            ],
            "text/plain": [
              "           Airline Date_of_Journey    Source  ... Day   weekday Flight_Time\n",
              "9848     Air India      2019-01-03  Banglore  ...   3  Thursday     morning\n",
              "6024     Air India      2019-01-03  Banglore  ...   3  Thursday     morning\n",
              "2405   Jet Airways      2019-01-03  Banglore  ...   3  Thursday   afternoon\n",
              "10383  Jet Airways      2019-01-03  Banglore  ...   3  Thursday     morning\n",
              "8308        IndiGo      2019-01-03  Banglore  ...   3  Thursday     evening\n",
              "\n",
              "[5 rows x 16 columns]"
            ]
          },
          "metadata": {
            "tags": []
          },
          "execution_count": 40
        }
      ]
    },
    {
      "cell_type": "markdown",
      "metadata": {
        "id": "ioKx17TOFxWC"
      },
      "source": [
        "# Drping Some Columns"
      ]
    },
    {
      "cell_type": "code",
      "metadata": {
        "colab": {
          "base_uri": "https://localhost:8080/",
          "height": 206
        },
        "id": "mUATc0G4GT38",
        "outputId": "604e8792-4a05-4ae9-dde9-7306d01bcd30"
      },
      "source": [
        "df.drop(['Route','Arrival_Time','Date_of_Journey','Dep_Time'],axis=1,inplace=True)\r\n",
        "df.head()"
      ],
      "execution_count": 41,
      "outputs": [
        {
          "output_type": "execute_result",
          "data": {
            "text/html": [
              "<div>\n",
              "<style scoped>\n",
              "    .dataframe tbody tr th:only-of-type {\n",
              "        vertical-align: middle;\n",
              "    }\n",
              "\n",
              "    .dataframe tbody tr th {\n",
              "        vertical-align: top;\n",
              "    }\n",
              "\n",
              "    .dataframe thead th {\n",
              "        text-align: right;\n",
              "    }\n",
              "</style>\n",
              "<table border=\"1\" class=\"dataframe\">\n",
              "  <thead>\n",
              "    <tr style=\"text-align: right;\">\n",
              "      <th></th>\n",
              "      <th>Airline</th>\n",
              "      <th>Source</th>\n",
              "      <th>Destination</th>\n",
              "      <th>Duration</th>\n",
              "      <th>Total_Stops</th>\n",
              "      <th>Additional_Info</th>\n",
              "      <th>Price</th>\n",
              "      <th>year</th>\n",
              "      <th>month</th>\n",
              "      <th>Day</th>\n",
              "      <th>weekday</th>\n",
              "      <th>Flight_Time</th>\n",
              "    </tr>\n",
              "  </thead>\n",
              "  <tbody>\n",
              "    <tr>\n",
              "      <th>9848</th>\n",
              "      <td>Air India</td>\n",
              "      <td>Banglore</td>\n",
              "      <td>New Delhi</td>\n",
              "      <td>2345</td>\n",
              "      <td>2</td>\n",
              "      <td>No Info</td>\n",
              "      <td>17135</td>\n",
              "      <td>2019</td>\n",
              "      <td>1</td>\n",
              "      <td>3</td>\n",
              "      <td>Thursday</td>\n",
              "      <td>morning</td>\n",
              "    </tr>\n",
              "    <tr>\n",
              "      <th>6024</th>\n",
              "      <td>Air India</td>\n",
              "      <td>Banglore</td>\n",
              "      <td>New Delhi</td>\n",
              "      <td>1265</td>\n",
              "      <td>1</td>\n",
              "      <td>1 Long layover</td>\n",
              "      <td>14594</td>\n",
              "      <td>2019</td>\n",
              "      <td>1</td>\n",
              "      <td>3</td>\n",
              "      <td>Thursday</td>\n",
              "      <td>morning</td>\n",
              "    </tr>\n",
              "    <tr>\n",
              "      <th>2405</th>\n",
              "      <td>Jet Airways</td>\n",
              "      <td>Banglore</td>\n",
              "      <td>New Delhi</td>\n",
              "      <td>1055</td>\n",
              "      <td>1</td>\n",
              "      <td>1 Long layover</td>\n",
              "      <td>22270</td>\n",
              "      <td>2019</td>\n",
              "      <td>1</td>\n",
              "      <td>3</td>\n",
              "      <td>Thursday</td>\n",
              "      <td>afternoon</td>\n",
              "    </tr>\n",
              "    <tr>\n",
              "      <th>10383</th>\n",
              "      <td>Jet Airways</td>\n",
              "      <td>Banglore</td>\n",
              "      <td>New Delhi</td>\n",
              "      <td>1325</td>\n",
              "      <td>1</td>\n",
              "      <td>No Info</td>\n",
              "      <td>26890</td>\n",
              "      <td>2019</td>\n",
              "      <td>1</td>\n",
              "      <td>3</td>\n",
              "      <td>Thursday</td>\n",
              "      <td>morning</td>\n",
              "    </tr>\n",
              "    <tr>\n",
              "      <th>8308</th>\n",
              "      <td>IndiGo</td>\n",
              "      <td>Banglore</td>\n",
              "      <td>New Delhi</td>\n",
              "      <td>175</td>\n",
              "      <td>0</td>\n",
              "      <td>No Info</td>\n",
              "      <td>12649</td>\n",
              "      <td>2019</td>\n",
              "      <td>1</td>\n",
              "      <td>3</td>\n",
              "      <td>Thursday</td>\n",
              "      <td>evening</td>\n",
              "    </tr>\n",
              "  </tbody>\n",
              "</table>\n",
              "</div>"
            ],
            "text/plain": [
              "           Airline    Source Destination  ...  Day   weekday Flight_Time\n",
              "9848     Air India  Banglore   New Delhi  ...    3  Thursday     morning\n",
              "6024     Air India  Banglore   New Delhi  ...    3  Thursday     morning\n",
              "2405   Jet Airways  Banglore   New Delhi  ...    3  Thursday   afternoon\n",
              "10383  Jet Airways  Banglore   New Delhi  ...    3  Thursday     morning\n",
              "8308        IndiGo  Banglore   New Delhi  ...    3  Thursday     evening\n",
              "\n",
              "[5 rows x 12 columns]"
            ]
          },
          "metadata": {
            "tags": []
          },
          "execution_count": 41
        }
      ]
    },
    {
      "cell_type": "markdown",
      "metadata": {
        "id": "MCCOzP6-wYs4"
      },
      "source": [
        "### ***Co-relation Matrix***"
      ]
    },
    {
      "cell_type": "code",
      "metadata": {
        "colab": {
          "base_uri": "https://localhost:8080/",
          "height": 333
        },
        "id": "RfyPMYOXwP6q",
        "outputId": "6006cc41-6ad9-4f9f-9a0a-f954b4c10b46"
      },
      "source": [
        "corr=df.corr()\r\n",
        "sns.heatmap(corr,annot=True,cmap='coolwarm')"
      ],
      "execution_count": 42,
      "outputs": [
        {
          "output_type": "execute_result",
          "data": {
            "text/plain": [
              "<matplotlib.axes._subplots.AxesSubplot at 0x7f4a13624890>"
            ]
          },
          "metadata": {
            "tags": []
          },
          "execution_count": 42
        },
        {
          "output_type": "display_data",
          "data": {
            "image/png": "[encoded data removed]",
            "text/plain": [
              "<Figure size 432x288 with 2 Axes>"
            ]
          },
          "metadata": {
            "tags": [],
            "needs_background": "light"
          }
        }
      ]
    },
    {
      "cell_type": "markdown",
      "metadata": {
        "id": "75G-VUkTHcjG"
      },
      "source": [
        "### **Label** **Encoding**"
      ]
    },
    {
      "cell_type": "code",
      "metadata": {
        "colab": {
          "base_uri": "https://localhost:8080/",
          "height": 290
        },
        "id": "xON9g9BcHVtc",
        "outputId": "91076bd0-bfca-4f50-86c7-8594ab897ebc"
      },
      "source": [
        "#Now lets encode the inputs using label encoder\r\n",
        "# from sklearn.preprocessing import LabelEncoder\r\n",
        "# cat_col = ['Airline','Source','Destination','Duration','Additional_Info','Total_Stops','Day','month','year','Flight_Time']\r\n",
        "# le = LabelEncoder()\r\n",
        "# for i in cat_col:\r\n",
        "#     df[i] = le.fit_transform(df[i])\r\n",
        "# df.head()\r\n",
        "\r\n",
        "df = pd.get_dummies(df, columns = ['Airline', 'Source', 'Destination', 'Additional_Info', 'Flight_Time','month','weekday'])\r\n",
        "pd.set_option('display.max_columns', 50)\r\n",
        "df.head()"
      ],
      "execution_count": 43,
      "outputs": [
        {
          "output_type": "execute_result",
          "data": {
            "text/html": [
              "<div>\n",
              "<style scoped>\n",
              "    .dataframe tbody tr th:only-of-type {\n",
              "        vertical-align: middle;\n",
              "    }\n",
              "\n",
              "    .dataframe tbody tr th {\n",
              "        vertical-align: top;\n",
              "    }\n",
              "\n",
              "    .dataframe thead th {\n",
              "        text-align: right;\n",
              "    }\n",
              "</style>\n",
              "<table border=\"1\" class=\"dataframe\">\n",
              "  <thead>\n",
              "    <tr style=\"text-align: right;\">\n",
              "      <th></th>\n",
              "      <th>Duration</th>\n",
              "      <th>Total_Stops</th>\n",
              "      <th>Price</th>\n",
              "      <th>year</th>\n",
              "      <th>Day</th>\n",
              "      <th>Airline_Air Asia</th>\n",
              "      <th>Airline_Air India</th>\n",
              "      <th>Airline_Another</th>\n",
              "      <th>Airline_GoAir</th>\n",
              "      <th>Airline_IndiGo</th>\n",
              "      <th>Airline_Jet Airways</th>\n",
              "      <th>Airline_Jet Airways Business</th>\n",
              "      <th>Airline_Multiple carriers</th>\n",
              "      <th>Airline_Multiple carriers Premium economy</th>\n",
              "      <th>Airline_SpiceJet</th>\n",
              "      <th>Airline_Vistara</th>\n",
              "      <th>Source_Banglore</th>\n",
              "      <th>Source_Chennai</th>\n",
              "      <th>Source_Delhi</th>\n",
              "      <th>Source_Kolkata</th>\n",
              "      <th>Source_Mumbai</th>\n",
              "      <th>Destination_Banglore</th>\n",
              "      <th>Destination_Cochin</th>\n",
              "      <th>Destination_Delhi</th>\n",
              "      <th>Destination_Hyderabad</th>\n",
              "      <th>...</th>\n",
              "      <th>Additional_Info_2 Long layover</th>\n",
              "      <th>Additional_Info_Business class</th>\n",
              "      <th>Additional_Info_Change airports</th>\n",
              "      <th>Additional_Info_In-flight meal not included</th>\n",
              "      <th>Additional_Info_No Info</th>\n",
              "      <th>Additional_Info_No check-in baggage included</th>\n",
              "      <th>Additional_Info_Red-eye flight</th>\n",
              "      <th>Flight_Time_afternoon</th>\n",
              "      <th>Flight_Time_evening</th>\n",
              "      <th>Flight_Time_mid_night</th>\n",
              "      <th>Flight_Time_morning</th>\n",
              "      <th>month_1</th>\n",
              "      <th>month_3</th>\n",
              "      <th>month_4</th>\n",
              "      <th>month_5</th>\n",
              "      <th>month_6</th>\n",
              "      <th>month_9</th>\n",
              "      <th>month_12</th>\n",
              "      <th>weekday_Friday</th>\n",
              "      <th>weekday_Monday</th>\n",
              "      <th>weekday_Saturday</th>\n",
              "      <th>weekday_Sunday</th>\n",
              "      <th>weekday_Thursday</th>\n",
              "      <th>weekday_Tuesday</th>\n",
              "      <th>weekday_Wednesday</th>\n",
              "    </tr>\n",
              "  </thead>\n",
              "  <tbody>\n",
              "    <tr>\n",
              "      <th>9848</th>\n",
              "      <td>2345</td>\n",
              "      <td>2</td>\n",
              "      <td>17135</td>\n",
              "      <td>2019</td>\n",
              "      <td>3</td>\n",
              "      <td>0</td>\n",
              "      <td>1</td>\n",
              "      <td>0</td>\n",
              "      <td>0</td>\n",
              "      <td>0</td>\n",
              "      <td>0</td>\n",
              "      <td>0</td>\n",
              "      <td>0</td>\n",
              "      <td>0</td>\n",
              "      <td>0</td>\n",
              "      <td>0</td>\n",
              "      <td>1</td>\n",
              "      <td>0</td>\n",
              "      <td>0</td>\n",
              "      <td>0</td>\n",
              "      <td>0</td>\n",
              "      <td>0</td>\n",
              "      <td>0</td>\n",
              "      <td>0</td>\n",
              "      <td>0</td>\n",
              "      <td>...</td>\n",
              "      <td>0</td>\n",
              "      <td>0</td>\n",
              "      <td>0</td>\n",
              "      <td>0</td>\n",
              "      <td>1</td>\n",
              "      <td>0</td>\n",
              "      <td>0</td>\n",
              "      <td>0</td>\n",
              "      <td>0</td>\n",
              "      <td>0</td>\n",
              "      <td>1</td>\n",
              "      <td>1</td>\n",
              "      <td>0</td>\n",
              "      <td>0</td>\n",
              "      <td>0</td>\n",
              "      <td>0</td>\n",
              "      <td>0</td>\n",
              "      <td>0</td>\n",
              "      <td>0</td>\n",
              "      <td>0</td>\n",
              "      <td>0</td>\n",
              "      <td>0</td>\n",
              "      <td>1</td>\n",
              "      <td>0</td>\n",
              "      <td>0</td>\n",
              "    </tr>\n",
              "    <tr>\n",
              "      <th>6024</th>\n",
              "      <td>1265</td>\n",
              "      <td>1</td>\n",
              "      <td>14594</td>\n",
              "      <td>2019</td>\n",
              "      <td>3</td>\n",
              "      <td>0</td>\n",
              "      <td>1</td>\n",
              "      <td>0</td>\n",
              "      <td>0</td>\n",
              "      <td>0</td>\n",
              "      <td>0</td>\n",
              "      <td>0</td>\n",
              "      <td>0</td>\n",
              "      <td>0</td>\n",
              "      <td>0</td>\n",
              "      <td>0</td>\n",
              "      <td>1</td>\n",
              "      <td>0</td>\n",
              "      <td>0</td>\n",
              "      <td>0</td>\n",
              "      <td>0</td>\n",
              "      <td>0</td>\n",
              "      <td>0</td>\n",
              "      <td>0</td>\n",
              "      <td>0</td>\n",
              "      <td>...</td>\n",
              "      <td>0</td>\n",
              "      <td>0</td>\n",
              "      <td>0</td>\n",
              "      <td>0</td>\n",
              "      <td>0</td>\n",
              "      <td>0</td>\n",
              "      <td>0</td>\n",
              "      <td>0</td>\n",
              "      <td>0</td>\n",
              "      <td>0</td>\n",
              "      <td>1</td>\n",
              "      <td>1</td>\n",
              "      <td>0</td>\n",
              "      <td>0</td>\n",
              "      <td>0</td>\n",
              "      <td>0</td>\n",
              "      <td>0</td>\n",
              "      <td>0</td>\n",
              "      <td>0</td>\n",
              "      <td>0</td>\n",
              "      <td>0</td>\n",
              "      <td>0</td>\n",
              "      <td>1</td>\n",
              "      <td>0</td>\n",
              "      <td>0</td>\n",
              "    </tr>\n",
              "    <tr>\n",
              "      <th>2405</th>\n",
              "      <td>1055</td>\n",
              "      <td>1</td>\n",
              "      <td>22270</td>\n",
              "      <td>2019</td>\n",
              "      <td>3</td>\n",
              "      <td>0</td>\n",
              "      <td>0</td>\n",
              "      <td>0</td>\n",
              "      <td>0</td>\n",
              "      <td>0</td>\n",
              "      <td>1</td>\n",
              "      <td>0</td>\n",
              "      <td>0</td>\n",
              "      <td>0</td>\n",
              "      <td>0</td>\n",
              "      <td>0</td>\n",
              "      <td>1</td>\n",
              "      <td>0</td>\n",
              "      <td>0</td>\n",
              "      <td>0</td>\n",
              "      <td>0</td>\n",
              "      <td>0</td>\n",
              "      <td>0</td>\n",
              "      <td>0</td>\n",
              "      <td>0</td>\n",
              "      <td>...</td>\n",
              "      <td>0</td>\n",
              "      <td>0</td>\n",
              "      <td>0</td>\n",
              "      <td>0</td>\n",
              "      <td>0</td>\n",
              "      <td>0</td>\n",
              "      <td>0</td>\n",
              "      <td>1</td>\n",
              "      <td>0</td>\n",
              "      <td>0</td>\n",
              "      <td>0</td>\n",
              "      <td>1</td>\n",
              "      <td>0</td>\n",
              "      <td>0</td>\n",
              "      <td>0</td>\n",
              "      <td>0</td>\n",
              "      <td>0</td>\n",
              "      <td>0</td>\n",
              "      <td>0</td>\n",
              "      <td>0</td>\n",
              "      <td>0</td>\n",
              "      <td>0</td>\n",
              "      <td>1</td>\n",
              "      <td>0</td>\n",
              "      <td>0</td>\n",
              "    </tr>\n",
              "    <tr>\n",
              "      <th>10383</th>\n",
              "      <td>1325</td>\n",
              "      <td>1</td>\n",
              "      <td>26890</td>\n",
              "      <td>2019</td>\n",
              "      <td>3</td>\n",
              "      <td>0</td>\n",
              "      <td>0</td>\n",
              "      <td>0</td>\n",
              "      <td>0</td>\n",
              "      <td>0</td>\n",
              "      <td>1</td>\n",
              "      <td>0</td>\n",
              "      <td>0</td>\n",
              "      <td>0</td>\n",
              "      <td>0</td>\n",
              "      <td>0</td>\n",
              "      <td>1</td>\n",
              "      <td>0</td>\n",
              "      <td>0</td>\n",
              "      <td>0</td>\n",
              "      <td>0</td>\n",
              "      <td>0</td>\n",
              "      <td>0</td>\n",
              "      <td>0</td>\n",
              "      <td>0</td>\n",
              "      <td>...</td>\n",
              "      <td>0</td>\n",
              "      <td>0</td>\n",
              "      <td>0</td>\n",
              "      <td>0</td>\n",
              "      <td>1</td>\n",
              "      <td>0</td>\n",
              "      <td>0</td>\n",
              "      <td>0</td>\n",
              "      <td>0</td>\n",
              "      <td>0</td>\n",
              "      <td>1</td>\n",
              "      <td>1</td>\n",
              "      <td>0</td>\n",
              "      <td>0</td>\n",
              "      <td>0</td>\n",
              "      <td>0</td>\n",
              "      <td>0</td>\n",
              "      <td>0</td>\n",
              "      <td>0</td>\n",
              "      <td>0</td>\n",
              "      <td>0</td>\n",
              "      <td>0</td>\n",
              "      <td>1</td>\n",
              "      <td>0</td>\n",
              "      <td>0</td>\n",
              "    </tr>\n",
              "    <tr>\n",
              "      <th>8308</th>\n",
              "      <td>175</td>\n",
              "      <td>0</td>\n",
              "      <td>12649</td>\n",
              "      <td>2019</td>\n",
              "      <td>3</td>\n",
              "      <td>0</td>\n",
              "      <td>0</td>\n",
              "      <td>0</td>\n",
              "      <td>0</td>\n",
              "      <td>1</td>\n",
              "      <td>0</td>\n",
              "      <td>0</td>\n",
              "      <td>0</td>\n",
              "      <td>0</td>\n",
              "      <td>0</td>\n",
              "      <td>0</td>\n",
              "      <td>1</td>\n",
              "      <td>0</td>\n",
              "      <td>0</td>\n",
              "      <td>0</td>\n",
              "      <td>0</td>\n",
              "      <td>0</td>\n",
              "      <td>0</td>\n",
              "      <td>0</td>\n",
              "      <td>0</td>\n",
              "      <td>...</td>\n",
              "      <td>0</td>\n",
              "      <td>0</td>\n",
              "      <td>0</td>\n",
              "      <td>0</td>\n",
              "      <td>1</td>\n",
              "      <td>0</td>\n",
              "      <td>0</td>\n",
              "      <td>0</td>\n",
              "      <td>1</td>\n",
              "      <td>0</td>\n",
              "      <td>0</td>\n",
              "      <td>1</td>\n",
              "      <td>0</td>\n",
              "      <td>0</td>\n",
              "      <td>0</td>\n",
              "      <td>0</td>\n",
              "      <td>0</td>\n",
              "      <td>0</td>\n",
              "      <td>0</td>\n",
              "      <td>0</td>\n",
              "      <td>0</td>\n",
              "      <td>0</td>\n",
              "      <td>1</td>\n",
              "      <td>0</td>\n",
              "      <td>0</td>\n",
              "    </tr>\n",
              "  </tbody>\n",
              "</table>\n",
              "<p>5 rows × 54 columns</p>\n",
              "</div>"
            ],
            "text/plain": [
              "       Duration  Total_Stops  Price  year  Day  Airline_Air Asia  \\\n",
              "9848       2345            2  17135  2019    3                 0   \n",
              "6024       1265            1  14594  2019    3                 0   \n",
              "2405       1055            1  22270  2019    3                 0   \n",
              "10383      1325            1  26890  2019    3                 0   \n",
              "8308        175            0  12649  2019    3                 0   \n",
              "\n",
              "       Airline_Air India  Airline_Another  Airline_GoAir  Airline_IndiGo  \\\n",
              "9848                   1                0              0               0   \n",
              "6024                   1                0              0               0   \n",
              "2405                   0                0              0               0   \n",
              "10383                  0                0              0               0   \n",
              "8308                   0                0              0               1   \n",
              "\n",
              "       Airline_Jet Airways  Airline_Jet Airways Business  \\\n",
              "9848                     0                             0   \n",
              "6024                     0                             0   \n",
              "2405                     1                             0   \n",
              "10383                    1                             0   \n",
              "8308                     0                             0   \n",
              "\n",
              "       Airline_Multiple carriers  Airline_Multiple carriers Premium economy  \\\n",
              "9848                           0                                          0   \n",
              "6024                           0                                          0   \n",
              "2405                           0                                          0   \n",
              "10383                          0                                          0   \n",
              "8308                           0                                          0   \n",
              "\n",
              "       Airline_SpiceJet  Airline_Vistara  Source_Banglore  Source_Chennai  \\\n",
              "9848                  0                0                1               0   \n",
              "6024                  0                0                1               0   \n",
              "2405                  0                0                1               0   \n",
              "10383                 0                0                1               0   \n",
              "8308                  0                0                1               0   \n",
              "\n",
              "       Source_Delhi  Source_Kolkata  Source_Mumbai  Destination_Banglore  \\\n",
              "9848              0               0              0                     0   \n",
              "6024              0               0              0                     0   \n",
              "2405              0               0              0                     0   \n",
              "10383             0               0              0                     0   \n",
              "8308              0               0              0                     0   \n",
              "\n",
              "       Destination_Cochin  Destination_Delhi  Destination_Hyderabad  ...  \\\n",
              "9848                    0                  0                      0  ...   \n",
              "6024                    0                  0                      0  ...   \n",
              "2405                    0                  0                      0  ...   \n",
              "10383                   0                  0                      0  ...   \n",
              "8308                    0                  0                      0  ...   \n",
              "\n",
              "       Additional_Info_2 Long layover  Additional_Info_Business class  \\\n",
              "9848                                0                               0   \n",
              "6024                                0                               0   \n",
              "2405                                0                               0   \n",
              "10383                               0                               0   \n",
              "8308                                0                               0   \n",
              "\n",
              "       Additional_Info_Change airports  \\\n",
              "9848                                 0   \n",
              "6024                                 0   \n",
              "2405                                 0   \n",
              "10383                                0   \n",
              "8308                                 0   \n",
              "\n",
              "       Additional_Info_In-flight meal not included  Additional_Info_No Info  \\\n",
              "9848                                             0                        1   \n",
              "6024                                             0                        0   \n",
              "2405                                             0                        0   \n",
              "10383                                            0                        1   \n",
              "8308                                             0                        1   \n",
              "\n",
              "       Additional_Info_No check-in baggage included  \\\n",
              "9848                                              0   \n",
              "6024                                              0   \n",
              "2405                                              0   \n",
              "10383                                             0   \n",
              "8308                                              0   \n",
              "\n",
              "       Additional_Info_Red-eye flight  Flight_Time_afternoon  \\\n",
              "9848                                0                      0   \n",
              "6024                                0                      0   \n",
              "2405                                0                      1   \n",
              "10383                               0                      0   \n",
              "8308                                0                      0   \n",
              "\n",
              "       Flight_Time_evening  Flight_Time_mid_night  Flight_Time_morning  \\\n",
              "9848                     0                      0                    1   \n",
              "6024                     0                      0                    1   \n",
              "2405                     0                      0                    0   \n",
              "10383                    0                      0                    1   \n",
              "8308                     1                      0                    0   \n",
              "\n",
              "       month_1  month_3  month_4  month_5  month_6  month_9  month_12  \\\n",
              "9848         1        0        0        0        0        0         0   \n",
              "6024         1        0        0        0        0        0         0   \n",
              "2405         1        0        0        0        0        0         0   \n",
              "10383        1        0        0        0        0        0         0   \n",
              "8308         1        0        0        0        0        0         0   \n",
              "\n",
              "       weekday_Friday  weekday_Monday  weekday_Saturday  weekday_Sunday  \\\n",
              "9848                0               0                 0               0   \n",
              "6024                0               0                 0               0   \n",
              "2405                0               0                 0               0   \n",
              "10383               0               0                 0               0   \n",
              "8308                0               0                 0               0   \n",
              "\n",
              "       weekday_Thursday  weekday_Tuesday  weekday_Wednesday  \n",
              "9848                  1                0                  0  \n",
              "6024                  1                0                  0  \n",
              "2405                  1                0                  0  \n",
              "10383                 1                0                  0  \n",
              "8308                  1                0                  0  \n",
              "\n",
              "[5 rows x 54 columns]"
            ]
          },
          "metadata": {
            "tags": []
          },
          "execution_count": 43
        }
      ]
    },
    {
      "cell_type": "code",
      "metadata": {
        "id": "IGNOoVHyInn5"
      },
      "source": [
        ""
      ],
      "execution_count": 43,
      "outputs": []
    },
    {
      "cell_type": "code",
      "metadata": {
        "colab": {
          "base_uri": "https://localhost:8080/"
        },
        "id": "aramgqVVI__y",
        "outputId": "f6c06d17-8e57-4dab-b945-5e6f1852b8eb"
      },
      "source": [
        "df.shape"
      ],
      "execution_count": 44,
      "outputs": [
        {
          "output_type": "execute_result",
          "data": {
            "text/plain": [
              "(10682, 54)"
            ]
          },
          "metadata": {
            "tags": []
          },
          "execution_count": 44
        }
      ]
    },
    {
      "cell_type": "code",
      "metadata": {
        "colab": {
          "base_uri": "https://localhost:8080/"
        },
        "id": "11g9F8VSJdew",
        "outputId": "cc477f89-cb71-413d-d65a-79d32928e471"
      },
      "source": [
        "# Dropping Duplicates\r\n",
        "df = df.drop_duplicates()\r\n",
        "df.shape"
      ],
      "execution_count": 45,
      "outputs": [
        {
          "output_type": "execute_result",
          "data": {
            "text/plain": [
              "(10200, 54)"
            ]
          },
          "metadata": {
            "tags": []
          },
          "execution_count": 45
        }
      ]
    },
    {
      "cell_type": "code",
      "metadata": {
        "colab": {
          "base_uri": "https://localhost:8080/",
          "height": 297
        },
        "id": "DuPKGFP5JeUS",
        "outputId": "c2b835df-a928-4007-cac9-8c1f6b4f09a1"
      },
      "source": [
        "# Box-plot\r\n",
        "sns.boxplot(df['Price'])"
      ],
      "execution_count": 46,
      "outputs": [
        {
          "output_type": "execute_result",
          "data": {
            "text/plain": [
              "<matplotlib.axes._subplots.AxesSubplot at 0x7f4a1415b390>"
            ]
          },
          "metadata": {
            "tags": []
          },
          "execution_count": 46
        },
        {
          "output_type": "display_data",
          "data": {
            "image/png": "[encoded data removed]",
            "text/plain": [
              "<Figure size 432x288 with 1 Axes>"
            ]
          },
          "metadata": {
            "tags": [],
            "needs_background": "light"
          }
        }
      ]
    },
    {
      "cell_type": "code",
      "metadata": {
        "id": "XU81SYeuJyK-"
      },
      "source": [
        "df.to_csv('final_data.csv', index = None)"
      ],
      "execution_count": 47,
      "outputs": []
    },
    {
      "cell_type": "markdown",
      "metadata": {
        "id": "xzNZ_WeowyNd"
      },
      "source": [
        "### **Data for Model**"
      ]
    },
    {
      "cell_type": "code",
      "metadata": {
        "colab": {
          "base_uri": "https://localhost:8080/"
        },
        "id": "Uz3r4DicJ4MC",
        "outputId": "a7bf1337-7bcc-42f0-e813-957cbcaada16"
      },
      "source": [
        "y = df['Price']\r\n",
        "X = df.drop('Price', axis = 1)\r\n",
        "X.info()"
      ],
      "execution_count": 48,
      "outputs": [
        {
          "output_type": "stream",
          "text": [
            "<class 'pandas.core.frame.DataFrame'>\n",
            "Int64Index: 10200 entries, 9848 to 7297\n",
            "Data columns (total 53 columns):\n",
            " #   Column                                        Non-Null Count  Dtype\n",
            "---  ------                                        --------------  -----\n",
            " 0   Duration                                      10200 non-null  int64\n",
            " 1   Total_Stops                                   10200 non-null  int64\n",
            " 2   year                                          10200 non-null  int64\n",
            " 3   Day                                           10200 non-null  int64\n",
            " 4   Airline_Air Asia                              10200 non-null  uint8\n",
            " 5   Airline_Air India                             10200 non-null  uint8\n",
            " 6   Airline_Another                               10200 non-null  uint8\n",
            " 7   Airline_GoAir                                 10200 non-null  uint8\n",
            " 8   Airline_IndiGo                                10200 non-null  uint8\n",
            " 9   Airline_Jet Airways                           10200 non-null  uint8\n",
            " 10  Airline_Jet Airways Business                  10200 non-null  uint8\n",
            " 11  Airline_Multiple carriers                     10200 non-null  uint8\n",
            " 12  Airline_Multiple carriers Premium economy     10200 non-null  uint8\n",
            " 13  Airline_SpiceJet                              10200 non-null  uint8\n",
            " 14  Airline_Vistara                               10200 non-null  uint8\n",
            " 15  Source_Banglore                               10200 non-null  uint8\n",
            " 16  Source_Chennai                                10200 non-null  uint8\n",
            " 17  Source_Delhi                                  10200 non-null  uint8\n",
            " 18  Source_Kolkata                                10200 non-null  uint8\n",
            " 19  Source_Mumbai                                 10200 non-null  uint8\n",
            " 20  Destination_Banglore                          10200 non-null  uint8\n",
            " 21  Destination_Cochin                            10200 non-null  uint8\n",
            " 22  Destination_Delhi                             10200 non-null  uint8\n",
            " 23  Destination_Hyderabad                         10200 non-null  uint8\n",
            " 24  Destination_Kolkata                           10200 non-null  uint8\n",
            " 25  Destination_New Delhi                         10200 non-null  uint8\n",
            " 26  Additional_Info_1 Long layover                10200 non-null  uint8\n",
            " 27  Additional_Info_1 Short layover               10200 non-null  uint8\n",
            " 28  Additional_Info_2 Long layover                10200 non-null  uint8\n",
            " 29  Additional_Info_Business class                10200 non-null  uint8\n",
            " 30  Additional_Info_Change airports               10200 non-null  uint8\n",
            " 31  Additional_Info_In-flight meal not included   10200 non-null  uint8\n",
            " 32  Additional_Info_No Info                       10200 non-null  uint8\n",
            " 33  Additional_Info_No check-in baggage included  10200 non-null  uint8\n",
            " 34  Additional_Info_Red-eye flight                10200 non-null  uint8\n",
            " 35  Flight_Time_afternoon                         10200 non-null  uint8\n",
            " 36  Flight_Time_evening                           10200 non-null  uint8\n",
            " 37  Flight_Time_mid_night                         10200 non-null  uint8\n",
            " 38  Flight_Time_morning                           10200 non-null  uint8\n",
            " 39  month_1                                       10200 non-null  uint8\n",
            " 40  month_3                                       10200 non-null  uint8\n",
            " 41  month_4                                       10200 non-null  uint8\n",
            " 42  month_5                                       10200 non-null  uint8\n",
            " 43  month_6                                       10200 non-null  uint8\n",
            " 44  month_9                                       10200 non-null  uint8\n",
            " 45  month_12                                      10200 non-null  uint8\n",
            " 46  weekday_Friday                                10200 non-null  uint8\n",
            " 47  weekday_Monday                                10200 non-null  uint8\n",
            " 48  weekday_Saturday                              10200 non-null  uint8\n",
            " 49  weekday_Sunday                                10200 non-null  uint8\n",
            " 50  weekday_Thursday                              10200 non-null  uint8\n",
            " 51  weekday_Tuesday                               10200 non-null  uint8\n",
            " 52  weekday_Wednesday                             10200 non-null  uint8\n",
            "dtypes: int64(4), uint8(49)\n",
            "memory usage: 886.5 KB\n"
          ],
          "name": "stdout"
        }
      ]
    },
    {
      "cell_type": "markdown",
      "metadata": {
        "id": "sYFA8dpIdsmw"
      },
      "source": [
        "Data Scaling"
      ]
    },
    {
      "cell_type": "code",
      "metadata": {
        "colab": {
          "base_uri": "https://localhost:8080/",
          "height": 290
        },
        "id": "2IP38Ym6w-9q",
        "outputId": "3c8092ab-9506-47cf-a884-60066132dbbd"
      },
      "source": [
        "from sklearn.preprocessing import StandardScaler\r\n",
        "s = StandardScaler()\r\n",
        "X = pd.DataFrame(s.fit_transform(df),columns = df.columns)\r\n",
        "X = X.drop('Price',axis=1)\r\n",
        "X.head()"
      ],
      "execution_count": 49,
      "outputs": [
        {
          "output_type": "execute_result",
          "data": {
            "text/html": [
              "<div>\n",
              "<style scoped>\n",
              "    .dataframe tbody tr th:only-of-type {\n",
              "        vertical-align: middle;\n",
              "    }\n",
              "\n",
              "    .dataframe tbody tr th {\n",
              "        vertical-align: top;\n",
              "    }\n",
              "\n",
              "    .dataframe thead th {\n",
              "        text-align: right;\n",
              "    }\n",
              "</style>\n",
              "<table border=\"1\" class=\"dataframe\">\n",
              "  <thead>\n",
              "    <tr style=\"text-align: right;\">\n",
              "      <th></th>\n",
              "      <th>Duration</th>\n",
              "      <th>Total_Stops</th>\n",
              "      <th>year</th>\n",
              "      <th>Day</th>\n",
              "      <th>Airline_Air Asia</th>\n",
              "      <th>Airline_Air India</th>\n",
              "      <th>Airline_Another</th>\n",
              "      <th>Airline_GoAir</th>\n",
              "      <th>Airline_IndiGo</th>\n",
              "      <th>Airline_Jet Airways</th>\n",
              "      <th>Airline_Jet Airways Business</th>\n",
              "      <th>Airline_Multiple carriers</th>\n",
              "      <th>Airline_Multiple carriers Premium economy</th>\n",
              "      <th>Airline_SpiceJet</th>\n",
              "      <th>Airline_Vistara</th>\n",
              "      <th>Source_Banglore</th>\n",
              "      <th>Source_Chennai</th>\n",
              "      <th>Source_Delhi</th>\n",
              "      <th>Source_Kolkata</th>\n",
              "      <th>Source_Mumbai</th>\n",
              "      <th>Destination_Banglore</th>\n",
              "      <th>Destination_Cochin</th>\n",
              "      <th>Destination_Delhi</th>\n",
              "      <th>Destination_Hyderabad</th>\n",
              "      <th>Destination_Kolkata</th>\n",
              "      <th>...</th>\n",
              "      <th>Additional_Info_2 Long layover</th>\n",
              "      <th>Additional_Info_Business class</th>\n",
              "      <th>Additional_Info_Change airports</th>\n",
              "      <th>Additional_Info_In-flight meal not included</th>\n",
              "      <th>Additional_Info_No Info</th>\n",
              "      <th>Additional_Info_No check-in baggage included</th>\n",
              "      <th>Additional_Info_Red-eye flight</th>\n",
              "      <th>Flight_Time_afternoon</th>\n",
              "      <th>Flight_Time_evening</th>\n",
              "      <th>Flight_Time_mid_night</th>\n",
              "      <th>Flight_Time_morning</th>\n",
              "      <th>month_1</th>\n",
              "      <th>month_3</th>\n",
              "      <th>month_4</th>\n",
              "      <th>month_5</th>\n",
              "      <th>month_6</th>\n",
              "      <th>month_9</th>\n",
              "      <th>month_12</th>\n",
              "      <th>weekday_Friday</th>\n",
              "      <th>weekday_Monday</th>\n",
              "      <th>weekday_Saturday</th>\n",
              "      <th>weekday_Sunday</th>\n",
              "      <th>weekday_Thursday</th>\n",
              "      <th>weekday_Tuesday</th>\n",
              "      <th>weekday_Wednesday</th>\n",
              "    </tr>\n",
              "  </thead>\n",
              "  <tbody>\n",
              "    <tr>\n",
              "      <th>0</th>\n",
              "      <td>3.397436</td>\n",
              "      <td>1.794271</td>\n",
              "      <td>0.0</td>\n",
              "      <td>-1.095058</td>\n",
              "      <td>-0.176159</td>\n",
              "      <td>2.251181</td>\n",
              "      <td>-0.019807</td>\n",
              "      <td>-0.138876</td>\n",
              "      <td>-0.481389</td>\n",
              "      <td>-0.744106</td>\n",
              "      <td>-0.024261</td>\n",
              "      <td>-0.364113</td>\n",
              "      <td>-0.035723</td>\n",
              "      <td>-0.289548</td>\n",
              "      <td>-0.217072</td>\n",
              "      <td>1.983003</td>\n",
              "      <td>-0.187944</td>\n",
              "      <td>-0.861107</td>\n",
              "      <td>-0.609525</td>\n",
              "      <td>-0.26684</td>\n",
              "      <td>-0.609525</td>\n",
              "      <td>-0.861107</td>\n",
              "      <td>-0.362384</td>\n",
              "      <td>-0.26684</td>\n",
              "      <td>-0.187944</td>\n",
              "      <td>...</td>\n",
              "      <td>-0.009902</td>\n",
              "      <td>-0.019807</td>\n",
              "      <td>-0.026206</td>\n",
              "      <td>-0.477832</td>\n",
              "      <td>0.529264</td>\n",
              "      <td>-0.174972</td>\n",
              "      <td>-0.009902</td>\n",
              "      <td>-0.571011</td>\n",
              "      <td>-0.579614</td>\n",
              "      <td>-0.336231</td>\n",
              "      <td>1.221998</td>\n",
              "      <td>2.975747</td>\n",
              "      <td>-0.513294</td>\n",
              "      <td>-0.202031</td>\n",
              "      <td>-0.491867</td>\n",
              "      <td>-0.552735</td>\n",
              "      <td>-0.390066</td>\n",
              "      <td>-0.314297</td>\n",
              "      <td>-0.453198</td>\n",
              "      <td>-0.402487</td>\n",
              "      <td>-0.35367</td>\n",
              "      <td>-0.331333</td>\n",
              "      <td>1.914695</td>\n",
              "      <td>-0.360129</td>\n",
              "      <td>-0.421698</td>\n",
              "    </tr>\n",
              "    <tr>\n",
              "      <th>1</th>\n",
              "      <td>1.244776</td>\n",
              "      <td>0.273702</td>\n",
              "      <td>0.0</td>\n",
              "      <td>-1.095058</td>\n",
              "      <td>-0.176159</td>\n",
              "      <td>2.251181</td>\n",
              "      <td>-0.019807</td>\n",
              "      <td>-0.138876</td>\n",
              "      <td>-0.481389</td>\n",
              "      <td>-0.744106</td>\n",
              "      <td>-0.024261</td>\n",
              "      <td>-0.364113</td>\n",
              "      <td>-0.035723</td>\n",
              "      <td>-0.289548</td>\n",
              "      <td>-0.217072</td>\n",
              "      <td>1.983003</td>\n",
              "      <td>-0.187944</td>\n",
              "      <td>-0.861107</td>\n",
              "      <td>-0.609525</td>\n",
              "      <td>-0.26684</td>\n",
              "      <td>-0.609525</td>\n",
              "      <td>-0.861107</td>\n",
              "      <td>-0.362384</td>\n",
              "      <td>-0.26684</td>\n",
              "      <td>-0.187944</td>\n",
              "      <td>...</td>\n",
              "      <td>-0.009902</td>\n",
              "      <td>-0.019807</td>\n",
              "      <td>-0.026206</td>\n",
              "      <td>-0.477832</td>\n",
              "      <td>-1.889416</td>\n",
              "      <td>-0.174972</td>\n",
              "      <td>-0.009902</td>\n",
              "      <td>-0.571011</td>\n",
              "      <td>-0.579614</td>\n",
              "      <td>-0.336231</td>\n",
              "      <td>1.221998</td>\n",
              "      <td>2.975747</td>\n",
              "      <td>-0.513294</td>\n",
              "      <td>-0.202031</td>\n",
              "      <td>-0.491867</td>\n",
              "      <td>-0.552735</td>\n",
              "      <td>-0.390066</td>\n",
              "      <td>-0.314297</td>\n",
              "      <td>-0.453198</td>\n",
              "      <td>-0.402487</td>\n",
              "      <td>-0.35367</td>\n",
              "      <td>-0.331333</td>\n",
              "      <td>1.914695</td>\n",
              "      <td>-0.360129</td>\n",
              "      <td>-0.421698</td>\n",
              "    </tr>\n",
              "    <tr>\n",
              "      <th>2</th>\n",
              "      <td>0.826203</td>\n",
              "      <td>0.273702</td>\n",
              "      <td>0.0</td>\n",
              "      <td>-1.095058</td>\n",
              "      <td>-0.176159</td>\n",
              "      <td>-0.444211</td>\n",
              "      <td>-0.019807</td>\n",
              "      <td>-0.138876</td>\n",
              "      <td>-0.481389</td>\n",
              "      <td>1.343894</td>\n",
              "      <td>-0.024261</td>\n",
              "      <td>-0.364113</td>\n",
              "      <td>-0.035723</td>\n",
              "      <td>-0.289548</td>\n",
              "      <td>-0.217072</td>\n",
              "      <td>1.983003</td>\n",
              "      <td>-0.187944</td>\n",
              "      <td>-0.861107</td>\n",
              "      <td>-0.609525</td>\n",
              "      <td>-0.26684</td>\n",
              "      <td>-0.609525</td>\n",
              "      <td>-0.861107</td>\n",
              "      <td>-0.362384</td>\n",
              "      <td>-0.26684</td>\n",
              "      <td>-0.187944</td>\n",
              "      <td>...</td>\n",
              "      <td>-0.009902</td>\n",
              "      <td>-0.019807</td>\n",
              "      <td>-0.026206</td>\n",
              "      <td>-0.477832</td>\n",
              "      <td>-1.889416</td>\n",
              "      <td>-0.174972</td>\n",
              "      <td>-0.009902</td>\n",
              "      <td>1.751281</td>\n",
              "      <td>-0.579614</td>\n",
              "      <td>-0.336231</td>\n",
              "      <td>-0.818332</td>\n",
              "      <td>2.975747</td>\n",
              "      <td>-0.513294</td>\n",
              "      <td>-0.202031</td>\n",
              "      <td>-0.491867</td>\n",
              "      <td>-0.552735</td>\n",
              "      <td>-0.390066</td>\n",
              "      <td>-0.314297</td>\n",
              "      <td>-0.453198</td>\n",
              "      <td>-0.402487</td>\n",
              "      <td>-0.35367</td>\n",
              "      <td>-0.331333</td>\n",
              "      <td>1.914695</td>\n",
              "      <td>-0.360129</td>\n",
              "      <td>-0.421698</td>\n",
              "    </tr>\n",
              "    <tr>\n",
              "      <th>3</th>\n",
              "      <td>1.364368</td>\n",
              "      <td>0.273702</td>\n",
              "      <td>0.0</td>\n",
              "      <td>-1.095058</td>\n",
              "      <td>-0.176159</td>\n",
              "      <td>-0.444211</td>\n",
              "      <td>-0.019807</td>\n",
              "      <td>-0.138876</td>\n",
              "      <td>-0.481389</td>\n",
              "      <td>1.343894</td>\n",
              "      <td>-0.024261</td>\n",
              "      <td>-0.364113</td>\n",
              "      <td>-0.035723</td>\n",
              "      <td>-0.289548</td>\n",
              "      <td>-0.217072</td>\n",
              "      <td>1.983003</td>\n",
              "      <td>-0.187944</td>\n",
              "      <td>-0.861107</td>\n",
              "      <td>-0.609525</td>\n",
              "      <td>-0.26684</td>\n",
              "      <td>-0.609525</td>\n",
              "      <td>-0.861107</td>\n",
              "      <td>-0.362384</td>\n",
              "      <td>-0.26684</td>\n",
              "      <td>-0.187944</td>\n",
              "      <td>...</td>\n",
              "      <td>-0.009902</td>\n",
              "      <td>-0.019807</td>\n",
              "      <td>-0.026206</td>\n",
              "      <td>-0.477832</td>\n",
              "      <td>0.529264</td>\n",
              "      <td>-0.174972</td>\n",
              "      <td>-0.009902</td>\n",
              "      <td>-0.571011</td>\n",
              "      <td>-0.579614</td>\n",
              "      <td>-0.336231</td>\n",
              "      <td>1.221998</td>\n",
              "      <td>2.975747</td>\n",
              "      <td>-0.513294</td>\n",
              "      <td>-0.202031</td>\n",
              "      <td>-0.491867</td>\n",
              "      <td>-0.552735</td>\n",
              "      <td>-0.390066</td>\n",
              "      <td>-0.314297</td>\n",
              "      <td>-0.453198</td>\n",
              "      <td>-0.402487</td>\n",
              "      <td>-0.35367</td>\n",
              "      <td>-0.331333</td>\n",
              "      <td>1.914695</td>\n",
              "      <td>-0.360129</td>\n",
              "      <td>-0.421698</td>\n",
              "    </tr>\n",
              "    <tr>\n",
              "      <th>4</th>\n",
              "      <td>-0.927816</td>\n",
              "      <td>-1.246866</td>\n",
              "      <td>0.0</td>\n",
              "      <td>-1.095058</td>\n",
              "      <td>-0.176159</td>\n",
              "      <td>-0.444211</td>\n",
              "      <td>-0.019807</td>\n",
              "      <td>-0.138876</td>\n",
              "      <td>2.077322</td>\n",
              "      <td>-0.744106</td>\n",
              "      <td>-0.024261</td>\n",
              "      <td>-0.364113</td>\n",
              "      <td>-0.035723</td>\n",
              "      <td>-0.289548</td>\n",
              "      <td>-0.217072</td>\n",
              "      <td>1.983003</td>\n",
              "      <td>-0.187944</td>\n",
              "      <td>-0.861107</td>\n",
              "      <td>-0.609525</td>\n",
              "      <td>-0.26684</td>\n",
              "      <td>-0.609525</td>\n",
              "      <td>-0.861107</td>\n",
              "      <td>-0.362384</td>\n",
              "      <td>-0.26684</td>\n",
              "      <td>-0.187944</td>\n",
              "      <td>...</td>\n",
              "      <td>-0.009902</td>\n",
              "      <td>-0.019807</td>\n",
              "      <td>-0.026206</td>\n",
              "      <td>-0.477832</td>\n",
              "      <td>0.529264</td>\n",
              "      <td>-0.174972</td>\n",
              "      <td>-0.009902</td>\n",
              "      <td>-0.571011</td>\n",
              "      <td>1.725285</td>\n",
              "      <td>-0.336231</td>\n",
              "      <td>-0.818332</td>\n",
              "      <td>2.975747</td>\n",
              "      <td>-0.513294</td>\n",
              "      <td>-0.202031</td>\n",
              "      <td>-0.491867</td>\n",
              "      <td>-0.552735</td>\n",
              "      <td>-0.390066</td>\n",
              "      <td>-0.314297</td>\n",
              "      <td>-0.453198</td>\n",
              "      <td>-0.402487</td>\n",
              "      <td>-0.35367</td>\n",
              "      <td>-0.331333</td>\n",
              "      <td>1.914695</td>\n",
              "      <td>-0.360129</td>\n",
              "      <td>-0.421698</td>\n",
              "    </tr>\n",
              "  </tbody>\n",
              "</table>\n",
              "<p>5 rows × 53 columns</p>\n",
              "</div>"
            ],
            "text/plain": [
              "   Duration  Total_Stops  year       Day  Airline_Air Asia  Airline_Air India  \\\n",
              "0  3.397436     1.794271   0.0 -1.095058         -0.176159           2.251181   \n",
              "1  1.244776     0.273702   0.0 -1.095058         -0.176159           2.251181   \n",
              "2  0.826203     0.273702   0.0 -1.095058         -0.176159          -0.444211   \n",
              "3  1.364368     0.273702   0.0 -1.095058         -0.176159          -0.444211   \n",
              "4 -0.927816    -1.246866   0.0 -1.095058         -0.176159          -0.444211   \n",
              "\n",
              "   Airline_Another  Airline_GoAir  Airline_IndiGo  Airline_Jet Airways  \\\n",
              "0        -0.019807      -0.138876       -0.481389            -0.744106   \n",
              "1        -0.019807      -0.138876       -0.481389            -0.744106   \n",
              "2        -0.019807      -0.138876       -0.481389             1.343894   \n",
              "3        -0.019807      -0.138876       -0.481389             1.343894   \n",
              "4        -0.019807      -0.138876        2.077322            -0.744106   \n",
              "\n",
              "   Airline_Jet Airways Business  Airline_Multiple carriers  \\\n",
              "0                     -0.024261                  -0.364113   \n",
              "1                     -0.024261                  -0.364113   \n",
              "2                     -0.024261                  -0.364113   \n",
              "3                     -0.024261                  -0.364113   \n",
              "4                     -0.024261                  -0.364113   \n",
              "\n",
              "   Airline_Multiple carriers Premium economy  Airline_SpiceJet  \\\n",
              "0                                  -0.035723         -0.289548   \n",
              "1                                  -0.035723         -0.289548   \n",
              "2                                  -0.035723         -0.289548   \n",
              "3                                  -0.035723         -0.289548   \n",
              "4                                  -0.035723         -0.289548   \n",
              "\n",
              "   Airline_Vistara  Source_Banglore  Source_Chennai  Source_Delhi  \\\n",
              "0        -0.217072         1.983003       -0.187944     -0.861107   \n",
              "1        -0.217072         1.983003       -0.187944     -0.861107   \n",
              "2        -0.217072         1.983003       -0.187944     -0.861107   \n",
              "3        -0.217072         1.983003       -0.187944     -0.861107   \n",
              "4        -0.217072         1.983003       -0.187944     -0.861107   \n",
              "\n",
              "   Source_Kolkata  Source_Mumbai  Destination_Banglore  Destination_Cochin  \\\n",
              "0       -0.609525       -0.26684             -0.609525           -0.861107   \n",
              "1       -0.609525       -0.26684             -0.609525           -0.861107   \n",
              "2       -0.609525       -0.26684             -0.609525           -0.861107   \n",
              "3       -0.609525       -0.26684             -0.609525           -0.861107   \n",
              "4       -0.609525       -0.26684             -0.609525           -0.861107   \n",
              "\n",
              "   Destination_Delhi  Destination_Hyderabad  Destination_Kolkata  ...  \\\n",
              "0          -0.362384               -0.26684            -0.187944  ...   \n",
              "1          -0.362384               -0.26684            -0.187944  ...   \n",
              "2          -0.362384               -0.26684            -0.187944  ...   \n",
              "3          -0.362384               -0.26684            -0.187944  ...   \n",
              "4          -0.362384               -0.26684            -0.187944  ...   \n",
              "\n",
              "   Additional_Info_2 Long layover  Additional_Info_Business class  \\\n",
              "0                       -0.009902                       -0.019807   \n",
              "1                       -0.009902                       -0.019807   \n",
              "2                       -0.009902                       -0.019807   \n",
              "3                       -0.009902                       -0.019807   \n",
              "4                       -0.009902                       -0.019807   \n",
              "\n",
              "   Additional_Info_Change airports  \\\n",
              "0                        -0.026206   \n",
              "1                        -0.026206   \n",
              "2                        -0.026206   \n",
              "3                        -0.026206   \n",
              "4                        -0.026206   \n",
              "\n",
              "   Additional_Info_In-flight meal not included  Additional_Info_No Info  \\\n",
              "0                                    -0.477832                 0.529264   \n",
              "1                                    -0.477832                -1.889416   \n",
              "2                                    -0.477832                -1.889416   \n",
              "3                                    -0.477832                 0.529264   \n",
              "4                                    -0.477832                 0.529264   \n",
              "\n",
              "   Additional_Info_No check-in baggage included  \\\n",
              "0                                     -0.174972   \n",
              "1                                     -0.174972   \n",
              "2                                     -0.174972   \n",
              "3                                     -0.174972   \n",
              "4                                     -0.174972   \n",
              "\n",
              "   Additional_Info_Red-eye flight  Flight_Time_afternoon  Flight_Time_evening  \\\n",
              "0                       -0.009902              -0.571011            -0.579614   \n",
              "1                       -0.009902              -0.571011            -0.579614   \n",
              "2                       -0.009902               1.751281            -0.579614   \n",
              "3                       -0.009902              -0.571011            -0.579614   \n",
              "4                       -0.009902              -0.571011             1.725285   \n",
              "\n",
              "   Flight_Time_mid_night  Flight_Time_morning   month_1   month_3   month_4  \\\n",
              "0              -0.336231             1.221998  2.975747 -0.513294 -0.202031   \n",
              "1              -0.336231             1.221998  2.975747 -0.513294 -0.202031   \n",
              "2              -0.336231            -0.818332  2.975747 -0.513294 -0.202031   \n",
              "3              -0.336231             1.221998  2.975747 -0.513294 -0.202031   \n",
              "4              -0.336231            -0.818332  2.975747 -0.513294 -0.202031   \n",
              "\n",
              "    month_5   month_6   month_9  month_12  weekday_Friday  weekday_Monday  \\\n",
              "0 -0.491867 -0.552735 -0.390066 -0.314297       -0.453198       -0.402487   \n",
              "1 -0.491867 -0.552735 -0.390066 -0.314297       -0.453198       -0.402487   \n",
              "2 -0.491867 -0.552735 -0.390066 -0.314297       -0.453198       -0.402487   \n",
              "3 -0.491867 -0.552735 -0.390066 -0.314297       -0.453198       -0.402487   \n",
              "4 -0.491867 -0.552735 -0.390066 -0.314297       -0.453198       -0.402487   \n",
              "\n",
              "   weekday_Saturday  weekday_Sunday  weekday_Thursday  weekday_Tuesday  \\\n",
              "0          -0.35367       -0.331333          1.914695        -0.360129   \n",
              "1          -0.35367       -0.331333          1.914695        -0.360129   \n",
              "2          -0.35367       -0.331333          1.914695        -0.360129   \n",
              "3          -0.35367       -0.331333          1.914695        -0.360129   \n",
              "4          -0.35367       -0.331333          1.914695        -0.360129   \n",
              "\n",
              "   weekday_Wednesday  \n",
              "0          -0.421698  \n",
              "1          -0.421698  \n",
              "2          -0.421698  \n",
              "3          -0.421698  \n",
              "4          -0.421698  \n",
              "\n",
              "[5 rows x 53 columns]"
            ]
          },
          "metadata": {
            "tags": []
          },
          "execution_count": 49
        }
      ]
    },
    {
      "cell_type": "code",
      "metadata": {
        "colab": {
          "base_uri": "https://localhost:8080/"
        },
        "id": "4nPjokOi0-Rq",
        "outputId": "f8d101a8-26b5-4ace-8a1c-2fce23297b85"
      },
      "source": [
        "X.info()"
      ],
      "execution_count": 50,
      "outputs": [
        {
          "output_type": "stream",
          "text": [
            "<class 'pandas.core.frame.DataFrame'>\n",
            "RangeIndex: 10200 entries, 0 to 10199\n",
            "Data columns (total 53 columns):\n",
            " #   Column                                        Non-Null Count  Dtype  \n",
            "---  ------                                        --------------  -----  \n",
            " 0   Duration                                      10200 non-null  float64\n",
            " 1   Total_Stops                                   10200 non-null  float64\n",
            " 2   year                                          10200 non-null  float64\n",
            " 3   Day                                           10200 non-null  float64\n",
            " 4   Airline_Air Asia                              10200 non-null  float64\n",
            " 5   Airline_Air India                             10200 non-null  float64\n",
            " 6   Airline_Another                               10200 non-null  float64\n",
            " 7   Airline_GoAir                                 10200 non-null  float64\n",
            " 8   Airline_IndiGo                                10200 non-null  float64\n",
            " 9   Airline_Jet Airways                           10200 non-null  float64\n",
            " 10  Airline_Jet Airways Business                  10200 non-null  float64\n",
            " 11  Airline_Multiple carriers                     10200 non-null  float64\n",
            " 12  Airline_Multiple carriers Premium economy     10200 non-null  float64\n",
            " 13  Airline_SpiceJet                              10200 non-null  float64\n",
            " 14  Airline_Vistara                               10200 non-null  float64\n",
            " 15  Source_Banglore                               10200 non-null  float64\n",
            " 16  Source_Chennai                                10200 non-null  float64\n",
            " 17  Source_Delhi                                  10200 non-null  float64\n",
            " 18  Source_Kolkata                                10200 non-null  float64\n",
            " 19  Source_Mumbai                                 10200 non-null  float64\n",
            " 20  Destination_Banglore                          10200 non-null  float64\n",
            " 21  Destination_Cochin                            10200 non-null  float64\n",
            " 22  Destination_Delhi                             10200 non-null  float64\n",
            " 23  Destination_Hyderabad                         10200 non-null  float64\n",
            " 24  Destination_Kolkata                           10200 non-null  float64\n",
            " 25  Destination_New Delhi                         10200 non-null  float64\n",
            " 26  Additional_Info_1 Long layover                10200 non-null  float64\n",
            " 27  Additional_Info_1 Short layover               10200 non-null  float64\n",
            " 28  Additional_Info_2 Long layover                10200 non-null  float64\n",
            " 29  Additional_Info_Business class                10200 non-null  float64\n",
            " 30  Additional_Info_Change airports               10200 non-null  float64\n",
            " 31  Additional_Info_In-flight meal not included   10200 non-null  float64\n",
            " 32  Additional_Info_No Info                       10200 non-null  float64\n",
            " 33  Additional_Info_No check-in baggage included  10200 non-null  float64\n",
            " 34  Additional_Info_Red-eye flight                10200 non-null  float64\n",
            " 35  Flight_Time_afternoon                         10200 non-null  float64\n",
            " 36  Flight_Time_evening                           10200 non-null  float64\n",
            " 37  Flight_Time_mid_night                         10200 non-null  float64\n",
            " 38  Flight_Time_morning                           10200 non-null  float64\n",
            " 39  month_1                                       10200 non-null  float64\n",
            " 40  month_3                                       10200 non-null  float64\n",
            " 41  month_4                                       10200 non-null  float64\n",
            " 42  month_5                                       10200 non-null  float64\n",
            " 43  month_6                                       10200 non-null  float64\n",
            " 44  month_9                                       10200 non-null  float64\n",
            " 45  month_12                                      10200 non-null  float64\n",
            " 46  weekday_Friday                                10200 non-null  float64\n",
            " 47  weekday_Monday                                10200 non-null  float64\n",
            " 48  weekday_Saturday                              10200 non-null  float64\n",
            " 49  weekday_Sunday                                10200 non-null  float64\n",
            " 50  weekday_Thursday                              10200 non-null  float64\n",
            " 51  weekday_Tuesday                               10200 non-null  float64\n",
            " 52  weekday_Wednesday                             10200 non-null  float64\n",
            "dtypes: float64(53)\n",
            "memory usage: 4.1 MB\n"
          ],
          "name": "stdout"
        }
      ]
    },
    {
      "cell_type": "markdown",
      "metadata": {
        "id": "Gupm37ikg5a7"
      },
      "source": [
        "### **Model Testing**"
      ]
    },
    {
      "cell_type": "code",
      "metadata": {
        "id": "dO47BjLc09Sa"
      },
      "source": [
        "# Splitting data into train and test data\r\n",
        "from sklearn.model_selection import train_test_split\r\n",
        "from sklearn.preprocessing import StandardScaler\r\n",
        "\r\n",
        "from sklearn.metrics import mean_squared_error as mse\r\n",
        "from sklearn.metrics import r2_score\r\n",
        "\r\n",
        "from math import sqrt\r\n",
        "X_train, X_test, y_train, y_test = train_test_split(X, y, test_size = 0.2)"
      ],
      "execution_count": 51,
      "outputs": []
    },
    {
      "cell_type": "code",
      "metadata": {
        "id": "Puwc2HdjesY_"
      },
      "source": [
        "from sklearn.ensemble import RandomForestRegressor\r\n",
        "model = RandomForestRegressor()\r\n",
        "model.fit(X_train, y_train)\r\n",
        "y_train_pred = model.predict(X_train)\r\n",
        "y_test_pred = model.predict(X_test)"
      ],
      "execution_count": 53,
      "outputs": []
    },
    {
      "cell_type": "code",
      "metadata": {
        "colab": {
          "base_uri": "https://localhost:8080/"
        },
        "id": "pfowvazIe_cQ",
        "outputId": "71d03c07-a90c-4b4f-f8a9-adf7beae6757"
      },
      "source": [
        "print(\"Train Results for Random Forest Regressor Model:\")\r\n",
        "print(50 * '-')\r\n",
        "print(\"Root mean squared error: \", sqrt(mse(y_train.values, y_train_pred)))\r\n",
        "print(\"R-squared: \", r2_score(y_train.values, y_train_pred))"
      ],
      "execution_count": 54,
      "outputs": [
        {
          "output_type": "stream",
          "text": [
            "Train Results for Random Forest Regressor Model:\n",
            "--------------------------------------------------\n",
            "Root mean squared error:  732.7306987646042\n",
            "R-squared:  0.9753330870741251\n"
          ],
          "name": "stdout"
        }
      ]
    },
    {
      "cell_type": "code",
      "metadata": {
        "id": "xQ1vEBiFg3-O"
      },
      "source": [
        "from sklearn.model_selection import cross_val_score\r\n",
        "from sklearn.metrics import mean_squared_error\r\n",
        "def train(model,X,y):\r\n",
        "    model.fit(X_train, y_train)\r\n",
        "    y_train_pred = model.predict(X_train)\r\n",
        "    y_test_pred = model.predict(X_test)\r\n",
        "\r\n",
        "    print(\"Train Results for Model:\")\r\n",
        "    print(50 * '-')\r\n",
        "    print(\"Root mean squared error: \", sqrt(mse(y_train.values, y_train_pred)))\r\n",
        "    print(\"R-squared: \", r2_score(y_train.values, y_train_pred))\r\n",
        "\r\n",
        "\r\n",
        "    print(50*'#')\r\n",
        "    print(\"Test Results for Decision Tree Regressor Model:\")\r\n",
        "    print(50 * '-')\r\n",
        "    print(\"Root mean squared error: \", sqrt(mse(y_test, y_test_pred)))\r\n",
        "    print(\"R-squared: \", r2_score(y_test, y_test_pred))\r\n",
        "\r\n",
        "\r\n"
      ],
      "execution_count": 66,
      "outputs": []
    },
    {
      "cell_type": "code",
      "metadata": {
        "colab": {
          "base_uri": "https://localhost:8080/"
        },
        "id": "IRqG2VsjdvX8",
        "outputId": "09868132-b652-4c62-c089-a269b2493fb5"
      },
      "source": [
        "X.shape"
      ],
      "execution_count": 67,
      "outputs": [
        {
          "output_type": "execute_result",
          "data": {
            "text/plain": [
              "(10200, 53)"
            ]
          },
          "metadata": {
            "tags": []
          },
          "execution_count": 67
        }
      ]
    },
    {
      "cell_type": "code",
      "metadata": {
        "colab": {
          "base_uri": "https://localhost:8080/"
        },
        "id": "reKaXf2RhCrS",
        "outputId": "6915e15e-0941-4a33-bccf-000b2f459d14"
      },
      "source": [
        "print(type(X))\r\n",
        "print(type(y))"
      ],
      "execution_count": 68,
      "outputs": [
        {
          "output_type": "stream",
          "text": [
            "<class 'pandas.core.frame.DataFrame'>\n",
            "<class 'pandas.core.series.Series'>\n"
          ],
          "name": "stdout"
        }
      ]
    },
    {
      "cell_type": "code",
      "metadata": {
        "colab": {
          "base_uri": "https://localhost:8080/"
        },
        "id": "8gGaxAkghD9x",
        "outputId": "6d0b2056-7059-4a1a-e74d-1b6bd4cefb11"
      },
      "source": [
        "y.shape"
      ],
      "execution_count": 69,
      "outputs": [
        {
          "output_type": "execute_result",
          "data": {
            "text/plain": [
              "(10200,)"
            ]
          },
          "metadata": {
            "tags": []
          },
          "execution_count": 69
        }
      ]
    },
    {
      "cell_type": "code",
      "metadata": {
        "colab": {
          "base_uri": "https://localhost:8080/"
        },
        "id": "p-GLhf-OhXic",
        "outputId": "504c02a1-e78d-4f9f-c90b-217ea4caa071"
      },
      "source": [
        "y.head()"
      ],
      "execution_count": 70,
      "outputs": [
        {
          "output_type": "execute_result",
          "data": {
            "text/plain": [
              "9848     17135\n",
              "6024     14594\n",
              "2405     22270\n",
              "10383    26890\n",
              "8308     12649\n",
              "Name: Price, dtype: int64"
            ]
          },
          "metadata": {
            "tags": []
          },
          "execution_count": 70
        }
      ]
    },
    {
      "cell_type": "code",
      "metadata": {
        "colab": {
          "base_uri": "https://localhost:8080/",
          "height": 1000
        },
        "id": "NGDuMHpKhY8M",
        "outputId": "87ddb4ec-abbc-40d6-8f19-d067be495830"
      },
      "source": [
        "from sklearn.linear_model import LinearRegression, Ridge, Lasso\r\n",
        "model = LinearRegression()\r\n",
        "train(model, X, y)\r\n",
        "plt.figure(figsize = (10, 10))\r\n",
        "coef = pd.Series(model.coef_, X.columns).sort_values()\r\n",
        "coef.plot(kind='bar', title=\"Model Coefficients\")"
      ],
      "execution_count": 71,
      "outputs": [
        {
          "output_type": "stream",
          "text": [
            "Train Results for Model:\n",
            "--------------------------------------------------\n",
            "Root mean squared error:  2505.9939182932526\n",
            "R-squared:  0.7114732714411367\n",
            "##################################################\n",
            "Test Results for Decision Tree Regressor Model:\n",
            "--------------------------------------------------\n",
            "Root mean squared error:  2621.6663192797328\n",
            "R-squared:  0.6606755213124681\n"
          ],
          "name": "stdout"
        },
        {
          "output_type": "execute_result",
          "data": {
            "text/plain": [
              "<matplotlib.axes._subplots.AxesSubplot at 0x7f4a02178690>"
            ]
          },
          "metadata": {
            "tags": []
          },
          "execution_count": 71
        },
        {
          "output_type": "display_data",
          "data": {
            "image/png": "[encoded data removed]",
            "text/plain": [
              "<Figure size 720x720 with 1 Axes>"
            ]
          },
          "metadata": {
            "tags": [],
            "needs_background": "light"
          }
        }
      ]
    },
    {
      "cell_type": "code",
      "metadata": {
        "colab": {
          "base_uri": "https://localhost:8080/",
          "height": 1000
        },
        "id": "IhV8l1OLuE5G",
        "outputId": "d87732a0-7f7a-49c3-b9ff-ad2cb45118bc"
      },
      "source": [
        "model = Lasso()\r\n",
        "train(model, X, y)\r\n",
        "coef = pd.Series(model.coef_, X.columns).sort_values()\r\n",
        "plt.figure(figsize = (10, 10))\r\n",
        "coef.plot(kind='bar', title=\"Model Coefficients\")"
      ],
      "execution_count": 72,
      "outputs": [
        {
          "output_type": "stream",
          "text": [
            "Train Results for Model:\n",
            "--------------------------------------------------\n",
            "Root mean squared error:  2505.1098863992584\n",
            "R-squared:  0.7116768009380577\n",
            "##################################################\n",
            "Test Results for Decision Tree Regressor Model:\n",
            "--------------------------------------------------\n",
            "Root mean squared error:  2619.7665942106382\n",
            "R-squared:  0.6611671091693343\n"
          ],
          "name": "stdout"
        },
        {
          "output_type": "execute_result",
          "data": {
            "text/plain": [
              "<matplotlib.axes._subplots.AxesSubplot at 0x7f4a01c66850>"
            ]
          },
          "metadata": {
            "tags": []
          },
          "execution_count": 72
        },
        {
          "output_type": "display_data",
          "data": {
            "image/png": "[encoded data removed]",
            "text/plain": [
              "<Figure size 720x720 with 1 Axes>"
            ]
          },
          "metadata": {
            "tags": [],
            "needs_background": "light"
          }
        }
      ]
    },
    {
      "cell_type": "code",
      "metadata": {
        "colab": {
          "base_uri": "https://localhost:8080/",
          "height": 1000
        },
        "id": "L5-NdbS_1cWE",
        "outputId": "76cd189b-1127-440e-c633-3c4f060cfc95"
      },
      "source": [
        "model = Ridge(normalize=True)\r\n",
        "train(model, X, y)\r\n",
        "coef = pd.Series(model.coef_, X.columns).sort_values()\r\n",
        "plt.figure(figsize = (10, 10))\r\n",
        "coef.plot(kind='bar', title=\"Model Coefficients\")"
      ],
      "execution_count": 73,
      "outputs": [
        {
          "output_type": "stream",
          "text": [
            "Train Results for Model:\n",
            "--------------------------------------------------\n",
            "Root mean squared error:  2956.7308238314513\n",
            "R-squared:  0.5983483051915828\n",
            "##################################################\n",
            "Test Results for Decision Tree Regressor Model:\n",
            "--------------------------------------------------\n",
            "Root mean squared error:  2998.159998200199\n",
            "R-squared:  0.5562177046805246\n"
          ],
          "name": "stdout"
        },
        {
          "output_type": "execute_result",
          "data": {
            "text/plain": [
              "<matplotlib.axes._subplots.AxesSubplot at 0x7f4a01fcf390>"
            ]
          },
          "metadata": {
            "tags": []
          },
          "execution_count": 73
        },
        {
          "output_type": "display_data",
          "data": {
            "image/png": "[encoded data removed]",
            "text/plain": [
              "<Figure size 720x720 with 1 Axes>"
            ]
          },
          "metadata": {
            "tags": [],
            "needs_background": "light"
          }
        }
      ]
    },
    {
      "cell_type": "code",
      "metadata": {
        "colab": {
          "base_uri": "https://localhost:8080/",
          "height": 1000
        },
        "id": "EPi0s3Ac0erQ",
        "outputId": "e24153da-a7ef-48bd-c30d-3e49e83068ab"
      },
      "source": [
        "from sklearn.tree import DecisionTreeRegressor\r\n",
        "model = DecisionTreeRegressor()\r\n",
        "train(model, X, y)\r\n",
        "coef = pd.Series(model.feature_importances_, X.columns).sort_values(ascending=False)\r\n",
        "plt.figure(figsize = (10, 10))\r\n",
        "coef.plot(kind='bar', title=\"Feature Importance\")"
      ],
      "execution_count": 74,
      "outputs": [
        {
          "output_type": "stream",
          "text": [
            "Train Results for Model:\n",
            "--------------------------------------------------\n",
            "Root mean squared error:  392.4487763971092\n",
            "R-squared:  0.9929239322098753\n",
            "##################################################\n",
            "Test Results for Decision Tree Regressor Model:\n",
            "--------------------------------------------------\n",
            "Root mean squared error:  2184.383024464364\n",
            "R-squared:  0.7644311038784346\n"
          ],
          "name": "stdout"
        },
        {
          "output_type": "execute_result",
          "data": {
            "text/plain": [
              "<matplotlib.axes._subplots.AxesSubplot at 0x7f4a0198ce10>"
            ]
          },
          "metadata": {
            "tags": []
          },
          "execution_count": 74
        },
        {
          "output_type": "display_data",
          "data": {
            "image/png": "[encoded data removed]",
            "text/plain": [
              "<Figure size 720x720 with 1 Axes>"
            ]
          },
          "metadata": {
            "tags": [],
            "needs_background": "light"
          }
        }
      ]
    },
    {
      "cell_type": "code",
      "metadata": {
        "colab": {
          "base_uri": "https://localhost:8080/",
          "height": 1000
        },
        "id": "T3RM9ARC1hvX",
        "outputId": "14d5b3f9-d277-4f4c-f9aa-526cffcbd9bf"
      },
      "source": [
        "from sklearn.ensemble import RandomForestRegressor\r\n",
        "model = RandomForestRegressor()\r\n",
        "train(model, X, y)\r\n",
        "coef = pd.Series(model.feature_importances_, X.columns).sort_values(ascending=False)\r\n",
        "plt.figure(figsize = (10, 10))\r\n",
        "coef.plot(kind='bar', title=\"Feature Importance\")"
      ],
      "execution_count": 75,
      "outputs": [
        {
          "output_type": "stream",
          "text": [
            "Train Results for Model:\n",
            "--------------------------------------------------\n",
            "Root mean squared error:  730.6629517375774\n",
            "R-squared:  0.9754721094152151\n",
            "##################################################\n",
            "Test Results for Decision Tree Regressor Model:\n",
            "--------------------------------------------------\n",
            "Root mean squared error:  1756.4684640576477\n",
            "R-squared:  0.8476855611678678\n"
          ],
          "name": "stdout"
        },
        {
          "output_type": "execute_result",
          "data": {
            "text/plain": [
              "<matplotlib.axes._subplots.AxesSubplot at 0x7f4a017d5810>"
            ]
          },
          "metadata": {
            "tags": []
          },
          "execution_count": 75
        },
        {
          "output_type": "display_data",
          "data": {
            "image/png": "[encoded data removed]",
            "text/plain": [
              "<Figure size 720x720 with 1 Axes>"
            ]
          },
          "metadata": {
            "tags": [],
            "needs_background": "light"
          }
        }
      ]
    },
    {
      "cell_type": "code",
      "metadata": {
        "colab": {
          "base_uri": "https://localhost:8080/",
          "height": 1000
        },
        "id": "0bUqww1m1mZs",
        "outputId": "20b06c35-ad75-4bd1-8a3a-9c266b0450a0"
      },
      "source": [
        "from sklearn.ensemble import ExtraTreesRegressor\r\n",
        "model = ExtraTreesRegressor()\r\n",
        "train(model, X, y)\r\n",
        "coef = pd.Series(model.feature_importances_, X.columns).sort_values(ascending=False)\r\n",
        "plt.figure(figsize = (10, 10))\r\n",
        "coef.plot(kind='bar', title=\"Feature Importance\")"
      ],
      "execution_count": 76,
      "outputs": [
        {
          "output_type": "stream",
          "text": [
            "Train Results for Model:\n",
            "--------------------------------------------------\n",
            "Root mean squared error:  392.4487763971092\n",
            "R-squared:  0.9929239322098753\n",
            "##################################################\n",
            "Test Results for Decision Tree Regressor Model:\n",
            "--------------------------------------------------\n",
            "Root mean squared error:  1995.3396396964865\n",
            "R-squared:  0.803440507595266\n"
          ],
          "name": "stdout"
        },
        {
          "output_type": "execute_result",
          "data": {
            "text/plain": [
              "<matplotlib.axes._subplots.AxesSubplot at 0x7f4a0173d690>"
            ]
          },
          "metadata": {
            "tags": []
          },
          "execution_count": 76
        },
        {
          "output_type": "display_data",
          "data": {
            "image/png": "[encoded data removed]",
            "text/plain": [
              "<Figure size 720x720 with 1 Axes>"
            ]
          },
          "metadata": {
            "tags": [],
            "needs_background": "light"
          }
        }
      ]
    },
    {
      "cell_type": "code",
      "metadata": {
        "id": "nJwrJJNq1vZa"
      },
      "source": [
        ""
      ],
      "execution_count": 65,
      "outputs": []
    },
    {
      "cell_type": "markdown",
      "metadata": {
        "id": "N8m_Z48guUfd"
      },
      "source": [
        "### **Hyperparameter Tuning**"
      ]
    },
    {
      "cell_type": "code",
      "metadata": {
        "colab": {
          "base_uri": "https://localhost:8080/"
        },
        "id": "5V68DBBludUj",
        "outputId": "16a6f9bd-e6c2-4938-e08a-156eeb397a1f"
      },
      "source": [
        "from sklearn.model_selection import RandomizedSearchCV\r\n",
        "tuned_params = {'max_depth': [int(x) for x in np.linspace(5, 30, num = 6)],\r\n",
        "                'n_estimators': [int(x) for x in np.linspace(start = 100, stop = 1200, num = 12)],\r\n",
        "                'max_features': ['auto', 'sqrt'],\r\n",
        "                'min_samples_split': [2, 5, 10, 15, 100], \r\n",
        "                'min_samples_leaf': [1, 2, 5, 10]\r\n",
        "                }\r\n",
        "model = RandomizedSearchCV(RandomForestRegressor(), tuned_params, n_iter=10, scoring = 'neg_mean_absolute_error', cv=5, n_jobs=1,verbose=2,random_state=42)\r\n",
        "train(model, X, y)"
      ],
      "execution_count": 82,
      "outputs": [
        {
          "output_type": "stream",
          "text": [
            "Fitting 5 folds for each of 10 candidates, totalling 50 fits\n",
            "[CV] n_estimators=900, min_samples_split=5, min_samples_leaf=5, max_features=sqrt, max_depth=10 \n"
          ],
          "name": "stdout"
        },
        {
          "output_type": "stream",
          "text": [
            "[Parallel(n_jobs=1)]: Using backend SequentialBackend with 1 concurrent workers.\n"
          ],
          "name": "stderr"
        },
        {
          "output_type": "stream",
          "text": [
            "[CV]  n_estimators=900, min_samples_split=5, min_samples_leaf=5, max_features=sqrt, max_depth=10, total=   3.7s\n",
            "[CV] n_estimators=900, min_samples_split=5, min_samples_leaf=5, max_features=sqrt, max_depth=10 \n"
          ],
          "name": "stdout"
        },
        {
          "output_type": "stream",
          "text": [
            "[Parallel(n_jobs=1)]: Done   1 out of   1 | elapsed:    3.7s remaining:    0.0s\n"
          ],
          "name": "stderr"
        },
        {
          "output_type": "stream",
          "text": [
            "[CV]  n_estimators=900, min_samples_split=5, min_samples_leaf=5, max_features=sqrt, max_depth=10, total=   3.7s\n",
            "[CV] n_estimators=900, min_samples_split=5, min_samples_leaf=5, max_features=sqrt, max_depth=10 \n",
            "[CV]  n_estimators=900, min_samples_split=5, min_samples_leaf=5, max_features=sqrt, max_depth=10, total=   3.6s\n",
            "[CV] n_estimators=900, min_samples_split=5, min_samples_leaf=5, max_features=sqrt, max_depth=10 \n",
            "[CV]  n_estimators=900, min_samples_split=5, min_samples_leaf=5, max_features=sqrt, max_depth=10, total=   3.6s\n",
            "[CV] n_estimators=900, min_samples_split=5, min_samples_leaf=5, max_features=sqrt, max_depth=10 \n",
            "[CV]  n_estimators=900, min_samples_split=5, min_samples_leaf=5, max_features=sqrt, max_depth=10, total=   3.7s\n",
            "[CV] n_estimators=1100, min_samples_split=10, min_samples_leaf=2, max_features=sqrt, max_depth=15 \n",
            "[CV]  n_estimators=1100, min_samples_split=10, min_samples_leaf=2, max_features=sqrt, max_depth=15, total=   5.7s\n",
            "[CV] n_estimators=1100, min_samples_split=10, min_samples_leaf=2, max_features=sqrt, max_depth=15 \n",
            "[CV]  n_estimators=1100, min_samples_split=10, min_samples_leaf=2, max_features=sqrt, max_depth=15, total=   5.7s\n",
            "[CV] n_estimators=1100, min_samples_split=10, min_samples_leaf=2, max_features=sqrt, max_depth=15 \n",
            "[CV]  n_estimators=1100, min_samples_split=10, min_samples_leaf=2, max_features=sqrt, max_depth=15, total=   5.6s\n",
            "[CV] n_estimators=1100, min_samples_split=10, min_samples_leaf=2, max_features=sqrt, max_depth=15 \n",
            "[CV]  n_estimators=1100, min_samples_split=10, min_samples_leaf=2, max_features=sqrt, max_depth=15, total=   5.6s\n",
            "[CV] n_estimators=1100, min_samples_split=10, min_samples_leaf=2, max_features=sqrt, max_depth=15 \n",
            "[CV]  n_estimators=1100, min_samples_split=10, min_samples_leaf=2, max_features=sqrt, max_depth=15, total=   5.8s\n",
            "[CV] n_estimators=300, min_samples_split=100, min_samples_leaf=5, max_features=auto, max_depth=15 \n",
            "[CV]  n_estimators=300, min_samples_split=100, min_samples_leaf=5, max_features=auto, max_depth=15, total=   3.7s\n",
            "[CV] n_estimators=300, min_samples_split=100, min_samples_leaf=5, max_features=auto, max_depth=15 \n",
            "[CV]  n_estimators=300, min_samples_split=100, min_samples_leaf=5, max_features=auto, max_depth=15, total=   3.7s\n",
            "[CV] n_estimators=300, min_samples_split=100, min_samples_leaf=5, max_features=auto, max_depth=15 \n",
            "[CV]  n_estimators=300, min_samples_split=100, min_samples_leaf=5, max_features=auto, max_depth=15, total=   3.8s\n",
            "[CV] n_estimators=300, min_samples_split=100, min_samples_leaf=5, max_features=auto, max_depth=15 \n",
            "[CV]  n_estimators=300, min_samples_split=100, min_samples_leaf=5, max_features=auto, max_depth=15, total=   3.7s\n",
            "[CV] n_estimators=300, min_samples_split=100, min_samples_leaf=5, max_features=auto, max_depth=15 \n",
            "[CV]  n_estimators=300, min_samples_split=100, min_samples_leaf=5, max_features=auto, max_depth=15, total=   3.7s\n",
            "[CV] n_estimators=400, min_samples_split=5, min_samples_leaf=5, max_features=auto, max_depth=15 \n",
            "[CV]  n_estimators=400, min_samples_split=5, min_samples_leaf=5, max_features=auto, max_depth=15, total=   6.7s\n",
            "[CV] n_estimators=400, min_samples_split=5, min_samples_leaf=5, max_features=auto, max_depth=15 \n",
            "[CV]  n_estimators=400, min_samples_split=5, min_samples_leaf=5, max_features=auto, max_depth=15, total=   6.7s\n",
            "[CV] n_estimators=400, min_samples_split=5, min_samples_leaf=5, max_features=auto, max_depth=15 \n",
            "[CV]  n_estimators=400, min_samples_split=5, min_samples_leaf=5, max_features=auto, max_depth=15, total=   6.7s\n",
            "[CV] n_estimators=400, min_samples_split=5, min_samples_leaf=5, max_features=auto, max_depth=15 \n",
            "[CV]  n_estimators=400, min_samples_split=5, min_samples_leaf=5, max_features=auto, max_depth=15, total=   6.7s\n",
            "[CV] n_estimators=400, min_samples_split=5, min_samples_leaf=5, max_features=auto, max_depth=15 \n",
            "[CV]  n_estimators=400, min_samples_split=5, min_samples_leaf=5, max_features=auto, max_depth=15, total=   6.8s\n",
            "[CV] n_estimators=700, min_samples_split=5, min_samples_leaf=10, max_features=auto, max_depth=20 \n",
            "[CV]  n_estimators=700, min_samples_split=5, min_samples_leaf=10, max_features=auto, max_depth=20, total=  10.5s\n",
            "[CV] n_estimators=700, min_samples_split=5, min_samples_leaf=10, max_features=auto, max_depth=20 \n",
            "[CV]  n_estimators=700, min_samples_split=5, min_samples_leaf=10, max_features=auto, max_depth=20, total=  10.5s\n",
            "[CV] n_estimators=700, min_samples_split=5, min_samples_leaf=10, max_features=auto, max_depth=20 \n",
            "[CV]  n_estimators=700, min_samples_split=5, min_samples_leaf=10, max_features=auto, max_depth=20, total=  10.6s\n",
            "[CV] n_estimators=700, min_samples_split=5, min_samples_leaf=10, max_features=auto, max_depth=20 \n",
            "[CV]  n_estimators=700, min_samples_split=5, min_samples_leaf=10, max_features=auto, max_depth=20, total=  10.5s\n",
            "[CV] n_estimators=700, min_samples_split=5, min_samples_leaf=10, max_features=auto, max_depth=20 \n",
            "[CV]  n_estimators=700, min_samples_split=5, min_samples_leaf=10, max_features=auto, max_depth=20, total=  10.5s\n",
            "[CV] n_estimators=1000, min_samples_split=2, min_samples_leaf=1, max_features=sqrt, max_depth=25 \n",
            "[CV]  n_estimators=1000, min_samples_split=2, min_samples_leaf=1, max_features=sqrt, max_depth=25, total=   9.9s\n",
            "[CV] n_estimators=1000, min_samples_split=2, min_samples_leaf=1, max_features=sqrt, max_depth=25 \n",
            "[CV]  n_estimators=1000, min_samples_split=2, min_samples_leaf=1, max_features=sqrt, max_depth=25, total=   9.8s\n",
            "[CV] n_estimators=1000, min_samples_split=2, min_samples_leaf=1, max_features=sqrt, max_depth=25 \n",
            "[CV]  n_estimators=1000, min_samples_split=2, min_samples_leaf=1, max_features=sqrt, max_depth=25, total=   9.8s\n",
            "[CV] n_estimators=1000, min_samples_split=2, min_samples_leaf=1, max_features=sqrt, max_depth=25 \n",
            "[CV]  n_estimators=1000, min_samples_split=2, min_samples_leaf=1, max_features=sqrt, max_depth=25, total=   9.8s\n",
            "[CV] n_estimators=1000, min_samples_split=2, min_samples_leaf=1, max_features=sqrt, max_depth=25 \n",
            "[CV]  n_estimators=1000, min_samples_split=2, min_samples_leaf=1, max_features=sqrt, max_depth=25, total=   9.6s\n",
            "[CV] n_estimators=1100, min_samples_split=15, min_samples_leaf=10, max_features=sqrt, max_depth=5 \n",
            "[CV]  n_estimators=1100, min_samples_split=15, min_samples_leaf=10, max_features=sqrt, max_depth=5, total=   3.1s\n",
            "[CV] n_estimators=1100, min_samples_split=15, min_samples_leaf=10, max_features=sqrt, max_depth=5 \n",
            "[CV]  n_estimators=1100, min_samples_split=15, min_samples_leaf=10, max_features=sqrt, max_depth=5, total=   3.1s\n",
            "[CV] n_estimators=1100, min_samples_split=15, min_samples_leaf=10, max_features=sqrt, max_depth=5 \n",
            "[CV]  n_estimators=1100, min_samples_split=15, min_samples_leaf=10, max_features=sqrt, max_depth=5, total=   3.1s\n",
            "[CV] n_estimators=1100, min_samples_split=15, min_samples_leaf=10, max_features=sqrt, max_depth=5 \n",
            "[CV]  n_estimators=1100, min_samples_split=15, min_samples_leaf=10, max_features=sqrt, max_depth=5, total=   3.1s\n",
            "[CV] n_estimators=1100, min_samples_split=15, min_samples_leaf=10, max_features=sqrt, max_depth=5 \n",
            "[CV]  n_estimators=1100, min_samples_split=15, min_samples_leaf=10, max_features=sqrt, max_depth=5, total=   3.1s\n",
            "[CV] n_estimators=300, min_samples_split=15, min_samples_leaf=1, max_features=sqrt, max_depth=15 \n",
            "[CV]  n_estimators=300, min_samples_split=15, min_samples_leaf=1, max_features=sqrt, max_depth=15, total=   1.5s\n",
            "[CV] n_estimators=300, min_samples_split=15, min_samples_leaf=1, max_features=sqrt, max_depth=15 \n",
            "[CV]  n_estimators=300, min_samples_split=15, min_samples_leaf=1, max_features=sqrt, max_depth=15, total=   1.5s\n",
            "[CV] n_estimators=300, min_samples_split=15, min_samples_leaf=1, max_features=sqrt, max_depth=15 \n",
            "[CV]  n_estimators=300, min_samples_split=15, min_samples_leaf=1, max_features=sqrt, max_depth=15, total=   1.5s\n",
            "[CV] n_estimators=300, min_samples_split=15, min_samples_leaf=1, max_features=sqrt, max_depth=15 \n",
            "[CV]  n_estimators=300, min_samples_split=15, min_samples_leaf=1, max_features=sqrt, max_depth=15, total=   1.5s\n",
            "[CV] n_estimators=300, min_samples_split=15, min_samples_leaf=1, max_features=sqrt, max_depth=15 \n",
            "[CV]  n_estimators=300, min_samples_split=15, min_samples_leaf=1, max_features=sqrt, max_depth=15, total=   1.5s\n",
            "[CV] n_estimators=700, min_samples_split=10, min_samples_leaf=2, max_features=sqrt, max_depth=5 \n",
            "[CV]  n_estimators=700, min_samples_split=10, min_samples_leaf=2, max_features=sqrt, max_depth=5, total=   2.0s\n",
            "[CV] n_estimators=700, min_samples_split=10, min_samples_leaf=2, max_features=sqrt, max_depth=5 \n",
            "[CV]  n_estimators=700, min_samples_split=10, min_samples_leaf=2, max_features=sqrt, max_depth=5, total=   2.0s\n",
            "[CV] n_estimators=700, min_samples_split=10, min_samples_leaf=2, max_features=sqrt, max_depth=5 \n",
            "[CV]  n_estimators=700, min_samples_split=10, min_samples_leaf=2, max_features=sqrt, max_depth=5, total=   2.0s\n",
            "[CV] n_estimators=700, min_samples_split=10, min_samples_leaf=2, max_features=sqrt, max_depth=5 \n",
            "[CV]  n_estimators=700, min_samples_split=10, min_samples_leaf=2, max_features=sqrt, max_depth=5, total=   2.0s\n",
            "[CV] n_estimators=700, min_samples_split=10, min_samples_leaf=2, max_features=sqrt, max_depth=5 \n",
            "[CV]  n_estimators=700, min_samples_split=10, min_samples_leaf=2, max_features=sqrt, max_depth=5, total=   2.0s\n",
            "[CV] n_estimators=700, min_samples_split=15, min_samples_leaf=1, max_features=auto, max_depth=20 \n",
            "[CV]  n_estimators=700, min_samples_split=15, min_samples_leaf=1, max_features=auto, max_depth=20, total=  12.2s\n",
            "[CV] n_estimators=700, min_samples_split=15, min_samples_leaf=1, max_features=auto, max_depth=20 \n",
            "[CV]  n_estimators=700, min_samples_split=15, min_samples_leaf=1, max_features=auto, max_depth=20, total=  12.3s\n",
            "[CV] n_estimators=700, min_samples_split=15, min_samples_leaf=1, max_features=auto, max_depth=20 \n",
            "[CV]  n_estimators=700, min_samples_split=15, min_samples_leaf=1, max_features=auto, max_depth=20, total=  12.4s\n",
            "[CV] n_estimators=700, min_samples_split=15, min_samples_leaf=1, max_features=auto, max_depth=20 \n",
            "[CV]  n_estimators=700, min_samples_split=15, min_samples_leaf=1, max_features=auto, max_depth=20, total=  12.4s\n",
            "[CV] n_estimators=700, min_samples_split=15, min_samples_leaf=1, max_features=auto, max_depth=20 \n",
            "[CV]  n_estimators=700, min_samples_split=15, min_samples_leaf=1, max_features=auto, max_depth=20, total=  12.5s\n"
          ],
          "name": "stdout"
        },
        {
          "output_type": "stream",
          "text": [
            "[Parallel(n_jobs=1)]: Done  50 out of  50 | elapsed:  4.9min finished\n"
          ],
          "name": "stderr"
        },
        {
          "output_type": "stream",
          "text": [
            "Train Results for Model:\n",
            "--------------------------------------------------\n",
            "Root mean squared error:  1293.6021830973746\n",
            "R-squared:  0.9231174984219481\n",
            "##################################################\n",
            "Test Results for Decision Tree Regressor Model:\n",
            "--------------------------------------------------\n",
            "Root mean squared error:  1664.2782948539002\n",
            "R-squared:  0.8632547468213152\n"
          ],
          "name": "stdout"
        }
      ]
    },
    {
      "cell_type": "code",
      "metadata": {
        "colab": {
          "base_uri": "https://localhost:8080/",
          "height": 497
        },
        "id": "wl5u5Kqau_z0",
        "outputId": "2dd87689-182e-48c8-8135-71c2753f374d"
      },
      "source": [
        "pred=model.predict(X_test)\r\n",
        "plt.figure(figsize = (8,8))\r\n",
        "sns.distplot(y_test-pred)\r\n",
        "plt.show()"
      ],
      "execution_count": 84,
      "outputs": [
        {
          "output_type": "display_data",
          "data": {
            "image/png": "[encoded data removed]",
            "text/plain": [
              "<Figure size 576x576 with 1 Axes>"
            ]
          },
          "metadata": {
            "tags": [],
            "needs_background": "light"
          }
        }
      ]
    },
    {
      "cell_type": "code",
      "metadata": {
        "colab": {
          "base_uri": "https://localhost:8080/",
          "height": 497
        },
        "id": "M-YpxPkV0mGG",
        "outputId": "e4149a92-b682-4198-8b1d-36edb9da7379"
      },
      "source": [
        "plt.figure(figsize = (8,8))\r\n",
        "plt.scatter(y_test, pred, alpha = 0.5)\r\n",
        "plt.xlabel(\"y_test\")\r\n",
        "plt.ylabel(\"y_pred\")\r\n",
        "plt.show()"
      ],
      "execution_count": 85,
      "outputs": [
        {
          "output_type": "display_data",
          "data": {
            "image/png": "[encoded data removed]",
            "text/plain": [
              "<Figure size 576x576 with 1 Axes>"
            ]
          },
          "metadata": {
            "tags": [],
            "needs_background": "light"
          }
        }
      ]
    },
    {
      "cell_type": "code",
      "metadata": {
        "colab": {
          "base_uri": "https://localhost:8080/"
        },
        "id": "FcGcfFvZ0x_v",
        "outputId": "1bd00db7-0c4e-40cb-d0e9-de0e0275f88f"
      },
      "source": [
        "from sklearn import metrics\r\n",
        "print('MAE:', metrics.mean_absolute_error(y_test, pred))\r\n",
        "print('MSE:', metrics.mean_squared_error(y_test, pred))\r\n",
        "print('RMSE:', np.sqrt(metrics.mean_squared_error(y_test, pred)))"
      ],
      "execution_count": 87,
      "outputs": [
        {
          "output_type": "stream",
          "text": [
            "MAE: 892.7351478697643\n",
            "MSE: 2769822.2427218053\n",
            "RMSE: 1664.2782948539002\n"
          ],
          "name": "stdout"
        }
      ]
    },
    {
      "cell_type": "markdown",
      "metadata": {
        "id": "FlV-DDl21XKa"
      },
      "source": [
        "### **Saving the Model**"
      ]
    },
    {
      "cell_type": "code",
      "metadata": {
        "id": "V-H_NLCt1aLC"
      },
      "source": [
        "import pickle\r\n",
        "# open a file, where you ant to store the data\r\n",
        "file = open('flight_rate_rf.pkl', 'wb')\r\n",
        "\r\n",
        "# dump information to that file\r\n",
        "pickle.dump(model, file)"
      ],
      "execution_count": 88,
      "outputs": []
    },
    {
      "cell_type": "code",
      "metadata": {
        "id": "23ssvM7S1oSK"
      },
      "source": [
        "temp = open('flight_rate_rf.pkl','rb')\r\n",
        "fin = pickle.load(temp)"
      ],
      "execution_count": 90,
      "outputs": []
    },
    {
      "cell_type": "code",
      "metadata": {
        "id": "F4XYs5Wn2K2f"
      },
      "source": [
        "pred_fin = fin.predict(X_test)"
      ],
      "execution_count": 91,
      "outputs": []
    },
    {
      "cell_type": "code",
      "metadata": {
        "colab": {
          "base_uri": "https://localhost:8080/"
        },
        "id": "X9eeRd162VrI",
        "outputId": "266cac91-bf5c-4f13-96a2-741779185786"
      },
      "source": [
        "metrics.r2_score(y_test, pred_fin)"
      ],
      "execution_count": 92,
      "outputs": [
        {
          "output_type": "execute_result",
          "data": {
            "text/plain": [
              "0.8632547468213152"
            ]
          },
          "metadata": {
            "tags": []
          },
          "execution_count": 92
        }
      ]
    }
  ]
}